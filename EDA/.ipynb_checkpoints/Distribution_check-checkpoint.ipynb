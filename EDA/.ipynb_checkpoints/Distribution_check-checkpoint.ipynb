{
 "cells": [
  {
   "cell_type": "code",
   "execution_count": 32,
   "id": "accessible-collaboration",
   "metadata": {},
   "outputs": [],
   "source": [
    "import pandas as pd\n",
    "import numpy as np\n",
    "import datetime as datetime\n",
    "import matplotlib.pyplot as plt\n",
    "import seaborn as sns\n",
    "%matplotlib inline"
   ]
  },
  {
   "cell_type": "code",
   "execution_count": 33,
   "id": "devoted-democracy",
   "metadata": {},
   "outputs": [
    {
     "name": "stdout",
     "output_type": "stream",
     "text": [
      "/home/douglas/Documents/github.passwords/energy.predictor.2020.config\n"
     ]
    }
   ],
   "source": [
    "import psycopg2\n",
    "from psycopg2 import Error\n",
    "\n",
    "import os\n",
    "path = os.path.join(os.path.expanduser('~'), 'Documents', 'github.passwords', 'energy.predictor.2020.config')\n",
    "print (path)\n",
    "\n",
    "myfile = open(path,\"rt\")\n",
    "config= myfile.read()"
   ]
  },
  {
   "cell_type": "markdown",
   "id": "material-apache",
   "metadata": {},
   "source": [
    "## Distribution"
   ]
  },
  {
   "cell_type": "markdown",
   "id": "gentle-mailing",
   "metadata": {},
   "source": [
    "### Number of data points per meter type"
   ]
  },
  {
   "cell_type": "code",
   "execution_count": 34,
   "id": "rough-myanmar",
   "metadata": {},
   "outputs": [],
   "source": [
    "connection = psycopg2.connect(config)\n",
    "\n",
    "cursor = connection.cursor()"
   ]
  },
  {
   "cell_type": "code",
   "execution_count": 35,
   "id": "eight-citizenship",
   "metadata": {},
   "outputs": [],
   "source": [
    "# Read PostgreSQL into a dataframe\n",
    "sql =''' SELECT \n",
    "            t.timestamp,\n",
    "            t.meter,\n",
    "            t.meter_reading\n",
    "        FROM \n",
    "             weather_train AS w\n",
    "         INNER JOIN building_metadata AS bm\n",
    "             ON (bm.site_id = w.site_id)\n",
    "         INNER JOIN train AS t\n",
    "             ON (t.timestamp = w.timestamp) AND (t.building_id = bm.building_id)\n",
    "         WHERE \n",
    "             w.timestamp IS NOT NULL \n",
    "             AND w.air_temperature IS NOT NULL \n",
    "             AND w.dew_temperature IS NOT NULL\n",
    "             AND w.sea_level_pressure IS NOT NULL \n",
    "             AND w.wind_direction IS NOT NULL \n",
    "             AND w.wind_speed IS NOT NULL\n",
    "            ;'''\n",
    "meter_distribution = pd.read_sql_query(sql,connection)"
   ]
  },
  {
   "cell_type": "code",
   "execution_count": 36,
   "id": "unlikely-karma",
   "metadata": {},
   "outputs": [
    {
     "name": "stdout",
     "output_type": "stream",
     "text": [
      "PostgreSQL connection is closed\n"
     ]
    }
   ],
   "source": [
    "if (connection):\n",
    "        cursor.close()\n",
    "        connection.close()\n",
    "        print(\"PostgreSQL connection is closed\")"
   ]
  },
  {
   "cell_type": "code",
   "execution_count": 37,
   "id": "premium-funeral",
   "metadata": {},
   "outputs": [
    {
     "data": {
      "text/html": [
       "<div>\n",
       "<style scoped>\n",
       "    .dataframe tbody tr th:only-of-type {\n",
       "        vertical-align: middle;\n",
       "    }\n",
       "\n",
       "    .dataframe tbody tr th {\n",
       "        vertical-align: top;\n",
       "    }\n",
       "\n",
       "    .dataframe thead th {\n",
       "        text-align: right;\n",
       "    }\n",
       "</style>\n",
       "<table border=\"1\" class=\"dataframe\">\n",
       "  <thead>\n",
       "    <tr style=\"text-align: right;\">\n",
       "      <th></th>\n",
       "      <th>timestamp</th>\n",
       "      <th>meter</th>\n",
       "      <th>meter_reading</th>\n",
       "    </tr>\n",
       "  </thead>\n",
       "  <tbody>\n",
       "    <tr>\n",
       "      <th>0</th>\n",
       "      <td>2016-01-01</td>\n",
       "      <td>0</td>\n",
       "      <td>0.0000</td>\n",
       "    </tr>\n",
       "    <tr>\n",
       "      <th>1</th>\n",
       "      <td>2016-01-01</td>\n",
       "      <td>1</td>\n",
       "      <td>11.1132</td>\n",
       "    </tr>\n",
       "    <tr>\n",
       "      <th>2</th>\n",
       "      <td>2016-01-01</td>\n",
       "      <td>0</td>\n",
       "      <td>2027.5200</td>\n",
       "    </tr>\n",
       "    <tr>\n",
       "      <th>3</th>\n",
       "      <td>2016-01-01</td>\n",
       "      <td>0</td>\n",
       "      <td>360.9800</td>\n",
       "    </tr>\n",
       "    <tr>\n",
       "      <th>4</th>\n",
       "      <td>2016-01-01</td>\n",
       "      <td>1</td>\n",
       "      <td>13.7861</td>\n",
       "    </tr>\n",
       "    <tr>\n",
       "      <th>...</th>\n",
       "      <td>...</td>\n",
       "      <td>...</td>\n",
       "      <td>...</td>\n",
       "    </tr>\n",
       "    <tr>\n",
       "      <th>17684649</th>\n",
       "      <td>2016-01-01</td>\n",
       "      <td>0</td>\n",
       "      <td>28.0638</td>\n",
       "    </tr>\n",
       "    <tr>\n",
       "      <th>17684650</th>\n",
       "      <td>2016-01-01</td>\n",
       "      <td>3</td>\n",
       "      <td>9.7989</td>\n",
       "    </tr>\n",
       "    <tr>\n",
       "      <th>17684651</th>\n",
       "      <td>2016-01-01</td>\n",
       "      <td>0</td>\n",
       "      <td>9.4350</td>\n",
       "    </tr>\n",
       "    <tr>\n",
       "      <th>17684652</th>\n",
       "      <td>2016-01-01</td>\n",
       "      <td>3</td>\n",
       "      <td>100.0000</td>\n",
       "    </tr>\n",
       "    <tr>\n",
       "      <th>17684653</th>\n",
       "      <td>2016-01-01</td>\n",
       "      <td>0</td>\n",
       "      <td>6.2000</td>\n",
       "    </tr>\n",
       "  </tbody>\n",
       "</table>\n",
       "<p>17684654 rows × 3 columns</p>\n",
       "</div>"
      ],
      "text/plain": [
       "          timestamp  meter  meter_reading\n",
       "0        2016-01-01      0         0.0000\n",
       "1        2016-01-01      1        11.1132\n",
       "2        2016-01-01      0      2027.5200\n",
       "3        2016-01-01      0       360.9800\n",
       "4        2016-01-01      1        13.7861\n",
       "...             ...    ...            ...\n",
       "17684649 2016-01-01      0        28.0638\n",
       "17684650 2016-01-01      3         9.7989\n",
       "17684651 2016-01-01      0         9.4350\n",
       "17684652 2016-01-01      3       100.0000\n",
       "17684653 2016-01-01      0         6.2000\n",
       "\n",
       "[17684654 rows x 3 columns]"
      ]
     },
     "execution_count": 37,
     "metadata": {},
     "output_type": "execute_result"
    }
   ],
   "source": [
    "meter_distribution"
   ]
  },
  {
   "cell_type": "code",
   "execution_count": 40,
   "id": "increasing-constant",
   "metadata": {},
   "outputs": [
    {
     "data": {
      "text/plain": [
       "<AxesSubplot:xlabel='meter', ylabel='count'>"
      ]
     },
     "execution_count": 40,
     "metadata": {},
     "output_type": "execute_result"
    },
    {
     "data": {
      "image/png": "[encoded data removed]",
      "text/plain": [
       "<Figure size 432x288 with 1 Axes>"
      ]
     },
     "metadata": {
      "needs_background": "light"
     },
     "output_type": "display_data"
    }
   ],
   "source": [
    "meterName = {0: 'electricity', 1: 'chilledwater', 2: 'steam', 3: 'hotwater'}\n",
    "meter_distribution['meter'] = meter_distribution['meter'].map(meterName)\n",
    "\n",
    "sns.countplot(x='meter',data=meter_distribution)"
   ]
  },
  {
   "cell_type": "markdown",
   "id": "close-necklace",
   "metadata": {},
   "source": [
    "### Meter distribution"
   ]
  },
  {
   "cell_type": "code",
   "execution_count": 42,
   "id": "marked-swaziland",
   "metadata": {},
   "outputs": [],
   "source": [
    "connection = psycopg2.connect(config)\n",
    "\n",
    "cursor = connection.cursor()"
   ]
  },
  {
   "cell_type": "code",
   "execution_count": 43,
   "id": "dietary-charge",
   "metadata": {},
   "outputs": [],
   "source": [
    "# Read PostgreSQL into a dataframe\n",
    "sql =''' SELECT \n",
    "            bm.site_id,\n",
    "            bm.building_id,\n",
    "            t.meter\n",
    "        FROM \n",
    "             weather_train AS w\n",
    "         INNER JOIN building_metadata AS bm\n",
    "             ON (bm.site_id = w.site_id)\n",
    "         INNER JOIN train AS t\n",
    "             ON (t.timestamp = w.timestamp) AND (t.building_id = bm.building_id)\n",
    "         WHERE \n",
    "             w.timestamp IS NOT NULL \n",
    "             AND w.air_temperature IS NOT NULL \n",
    "             AND w.dew_temperature IS NOT NULL\n",
    "             AND w.sea_level_pressure IS NOT NULL \n",
    "             AND w.wind_direction IS NOT NULL \n",
    "             AND w.wind_speed IS NOT NULL\n",
    "            ;'''\n",
    "meter_distribution = pd.read_sql_query(sql,connection)"
   ]
  },
  {
   "cell_type": "code",
   "execution_count": 44,
   "id": "reflected-albania",
   "metadata": {},
   "outputs": [
    {
     "name": "stdout",
     "output_type": "stream",
     "text": [
      "PostgreSQL connection is closed\n"
     ]
    }
   ],
   "source": [
    "if (connection):\n",
    "        cursor.close()\n",
    "        connection.close()\n",
    "        print(\"PostgreSQL connection is closed\")"
   ]
  },
  {
   "cell_type": "code",
   "execution_count": 45,
   "id": "running-texas",
   "metadata": {},
   "outputs": [
    {
     "data": {
      "text/plain": [
       "<AxesSubplot:xlabel='meter', ylabel='count'>"
      ]
     },
     "execution_count": 45,
     "metadata": {},
     "output_type": "execute_result"
    },
    {
     "data": {
      "image/png": "[encoded data removed]",
      "text/plain": [
       "<Figure size 432x288 with 1 Axes>"
      ]
     },
     "metadata": {
      "needs_background": "light"
     },
     "output_type": "display_data"
    }
   ],
   "source": [
    "meter_distribution = meter_distribution.drop_duplicates()\n",
    "\n",
    "meter_distribution['meter'] = meter_distribution['meter'].map(meterName)\n",
    "\n",
    "sns.countplot(x='meter',data=meter_distribution)"
   ]
  },
  {
   "cell_type": "markdown",
   "id": "three-petite",
   "metadata": {},
   "source": [
    "### Where are they located, site id breakdown"
   ]
  },
  {
   "cell_type": "code",
   "execution_count": 46,
   "id": "reasonable-exhibition",
   "metadata": {},
   "outputs": [],
   "source": [
    "connection = psycopg2.connect(config)\n",
    "\n",
    "cursor = connection.cursor()"
   ]
  },
  {
   "cell_type": "code",
   "execution_count": 47,
   "id": "cellular-yesterday",
   "metadata": {},
   "outputs": [],
   "source": [
    "# Read PostgreSQL into a dataframe\n",
    "sql =''' SELECT \n",
    "            bm.site_id,\n",
    "            bm.building_id,\n",
    "            t.meter\n",
    "        FROM \n",
    "             weather_train AS w\n",
    "         INNER JOIN building_metadata AS bm\n",
    "             ON (bm.site_id = w.site_id)\n",
    "         INNER JOIN train AS t\n",
    "             ON (t.timestamp = w.timestamp) AND (t.building_id = bm.building_id)\n",
    "         WHERE \n",
    "             w.timestamp IS NOT NULL \n",
    "             AND w.air_temperature IS NOT NULL \n",
    "             AND w.dew_temperature IS NOT NULL\n",
    "             AND w.sea_level_pressure IS NOT NULL \n",
    "             AND w.wind_direction IS NOT NULL \n",
    "             AND w.wind_speed IS NOT NULL\n",
    "            ;'''\n",
    "meter_distribution = pd.read_sql_query(sql,connection)"
   ]
  },
  {
   "cell_type": "code",
   "execution_count": 48,
   "id": "steady-yacht",
   "metadata": {},
   "outputs": [
    {
     "name": "stdout",
     "output_type": "stream",
     "text": [
      "PostgreSQL connection is closed\n"
     ]
    }
   ],
   "source": [
    "if (connection):\n",
    "        cursor.close()\n",
    "        connection.close()\n",
    "        print(\"PostgreSQL connection is closed\")"
   ]
  },
  {
   "cell_type": "code",
   "execution_count": 49,
   "id": "molecular-train",
   "metadata": {},
   "outputs": [
    {
     "data": {
      "text/plain": [
       "<AxesSubplot:xlabel='site_id', ylabel='count'>"
      ]
     },
     "execution_count": 49,
     "metadata": {},
     "output_type": "execute_result"
    },
    {
     "data": {
      "image/png": "[encoded data removed]",
      "text/plain": [
       "<Figure size 432x288 with 1 Axes>"
      ]
     },
     "metadata": {
      "needs_background": "light"
     },
     "output_type": "display_data"
    }
   ],
   "source": [
    "meter_distribution = meter_distribution.drop_duplicates()\n",
    "\n",
    "\n",
    "\n",
    "sns.countplot(x='site_id',data=meter_distribution)"
   ]
  },
  {
   "cell_type": "markdown",
   "id": "alive-liabilities",
   "metadata": {},
   "source": [
    "#### Observation"
   ]
  },
  {
   "cell_type": "markdown",
   "id": "rubber-currency",
   "metadata": {},
   "source": [
    "Should sites below 100, 150 be dropped?"
   ]
  },
  {
   "cell_type": "markdown",
   "id": "mathematical-enemy",
   "metadata": {},
   "source": [
    "### Distribution of Square Feet"
   ]
  },
  {
   "cell_type": "code",
   "execution_count": 54,
   "id": "marine-duncan",
   "metadata": {},
   "outputs": [
    {
     "name": "stdout",
     "output_type": "stream",
     "text": [
      "PostgreSQL connection is closed\n"
     ]
    }
   ],
   "source": [
    "connection = psycopg2.connect(config)\n",
    "\n",
    "cursor = connection.cursor()\n",
    "\n",
    "# Read PostgreSQL into a dataframe\n",
    "sql =''' SELECT \n",
    "            bm.building_id,\n",
    "            bm.square_feet\n",
    "        FROM \n",
    "             weather_train AS w\n",
    "         INNER JOIN building_metadata AS bm\n",
    "             ON (bm.site_id = w.site_id)\n",
    "         INNER JOIN train AS t\n",
    "             ON (t.timestamp = w.timestamp) AND (t.building_id = bm.building_id)\n",
    "         WHERE \n",
    "             w.timestamp IS NOT NULL \n",
    "             AND w.air_temperature IS NOT NULL \n",
    "             AND w.dew_temperature IS NOT NULL\n",
    "             AND w.sea_level_pressure IS NOT NULL \n",
    "             AND w.wind_direction IS NOT NULL \n",
    "             AND w.wind_speed IS NOT NULL\n",
    "            ;'''\n",
    "sf_distribution = pd.read_sql_query(sql,connection)\n",
    "\n",
    "if (connection):\n",
    "        cursor.close()\n",
    "        connection.close()\n",
    "        print(\"PostgreSQL connection is closed\")"
   ]
  },
  {
   "cell_type": "code",
   "execution_count": 57,
   "id": "greenhouse-horizon",
   "metadata": {},
   "outputs": [
    {
     "data": {
      "text/plain": [
       "<seaborn.axisgrid.FacetGrid at 0x7fd09f1f7880>"
      ]
     },
     "execution_count": 57,
     "metadata": {},
     "output_type": "execute_result"
    },
    {
     "data": {
      "image/png": "[encoded data removed]",
      "text/plain": [
       "<Figure size 360x360 with 1 Axes>"
      ]
     },
     "metadata": {
      "needs_background": "light"
     },
     "output_type": "display_data"
    }
   ],
   "source": [
    "sf_distribution = sf_distribution.drop_duplicates()\n",
    "\n",
    "\n",
    "\n",
    "sns.displot(sf_distribution.square_feet)"
   ]
  },
  {
   "cell_type": "markdown",
   "id": "elect-advantage",
   "metadata": {},
   "source": [
    "#### Observations"
   ]
  },
  {
   "cell_type": "markdown",
   "id": "floppy-privacy",
   "metadata": {},
   "source": [
    "Lower square foot buildings may have more clear relationship to energy use"
   ]
  },
  {
   "cell_type": "markdown",
   "id": "central-sending",
   "metadata": {},
   "source": [
    "### Building Use"
   ]
  },
  {
   "cell_type": "code",
   "execution_count": 71,
   "id": "retained-proposition",
   "metadata": {},
   "outputs": [
    {
     "name": "stdout",
     "output_type": "stream",
     "text": [
      "PostgreSQL connection is closed\n"
     ]
    }
   ],
   "source": [
    "connection = psycopg2.connect(config)\n",
    "\n",
    "cursor = connection.cursor()\n",
    "\n",
    "# Read PostgreSQL into a dataframe\n",
    "sql =''' SELECT \n",
    "            COUNT(DISTINCT bm.primary_use)\n",
    "        FROM \n",
    "             weather_train AS w\n",
    "         INNER JOIN building_metadata AS bm\n",
    "             ON (bm.site_id = w.site_id)\n",
    "         INNER JOIN train AS t\n",
    "             ON (t.timestamp = w.timestamp) AND (t.building_id = bm.building_id)\n",
    "         WHERE \n",
    "             w.timestamp IS NOT NULL \n",
    "             AND w.air_temperature IS NOT NULL \n",
    "             AND w.dew_temperature IS NOT NULL\n",
    "             AND w.sea_level_pressure IS NOT NULL \n",
    "             AND w.wind_direction IS NOT NULL \n",
    "             AND w.wind_speed IS NOT NULL\n",
    "            ;'''\n",
    "primary_use_count = pd.read_sql_query(sql,connection)\n",
    "\n",
    "if (connection):\n",
    "        cursor.close()\n",
    "        connection.close()\n",
    "        print(\"PostgreSQL connection is closed\")"
   ]
  },
  {
   "cell_type": "code",
   "execution_count": 72,
   "id": "sonic-protocol",
   "metadata": {},
   "outputs": [
    {
     "data": {
      "text/html": [
       "<div>\n",
       "<style scoped>\n",
       "    .dataframe tbody tr th:only-of-type {\n",
       "        vertical-align: middle;\n",
       "    }\n",
       "\n",
       "    .dataframe tbody tr th {\n",
       "        vertical-align: top;\n",
       "    }\n",
       "\n",
       "    .dataframe thead th {\n",
       "        text-align: right;\n",
       "    }\n",
       "</style>\n",
       "<table border=\"1\" class=\"dataframe\">\n",
       "  <thead>\n",
       "    <tr style=\"text-align: right;\">\n",
       "      <th></th>\n",
       "      <th>count</th>\n",
       "    </tr>\n",
       "  </thead>\n",
       "  <tbody>\n",
       "    <tr>\n",
       "      <th>0</th>\n",
       "      <td>16</td>\n",
       "    </tr>\n",
       "  </tbody>\n",
       "</table>\n",
       "</div>"
      ],
      "text/plain": [
       "   count\n",
       "0     16"
      ]
     },
     "execution_count": 72,
     "metadata": {},
     "output_type": "execute_result"
    }
   ],
   "source": [
    "primary_use_count"
   ]
  },
  {
   "cell_type": "code",
   "execution_count": 73,
   "id": "greater-sharing",
   "metadata": {},
   "outputs": [
    {
     "name": "stdout",
     "output_type": "stream",
     "text": [
      "PostgreSQL connection is closed\n"
     ]
    }
   ],
   "source": [
    "connection = psycopg2.connect(config)\n",
    "\n",
    "cursor = connection.cursor()\n",
    "\n",
    "# Read PostgreSQL into a dataframe\n",
    "sql =''' SELECT \n",
    "            bm.building_id,\n",
    "            bm.primary_use\n",
    "        FROM \n",
    "             weather_train AS w\n",
    "         INNER JOIN building_metadata AS bm\n",
    "             ON (bm.site_id = w.site_id)\n",
    "         INNER JOIN train AS t\n",
    "             ON (t.timestamp = w.timestamp) AND (t.building_id = bm.building_id)\n",
    "         WHERE \n",
    "             w.timestamp IS NOT NULL \n",
    "             AND w.air_temperature IS NOT NULL \n",
    "             AND w.dew_temperature IS NOT NULL\n",
    "             AND w.sea_level_pressure IS NOT NULL \n",
    "             AND w.wind_direction IS NOT NULL \n",
    "             AND w.wind_speed IS NOT NULL\n",
    "            ;'''\n",
    "pu_distribution = pd.read_sql_query(sql,connection)\n",
    "\n",
    "if (connection):\n",
    "        cursor.close()\n",
    "        connection.close()\n",
    "        print(\"PostgreSQL connection is closed\")"
   ]
  },
  {
   "cell_type": "code",
   "execution_count": 76,
   "id": "every-hamilton",
   "metadata": {},
   "outputs": [
    {
     "data": {
      "text/plain": [
       "[Text(0, 0, 'Office'),\n",
       " Text(1, 0, 'Education'),\n",
       " Text(2, 0, 'Lodging/residential'),\n",
       " Text(3, 0, 'Entertainment/public assembly'),\n",
       " Text(4, 0, 'Other'),\n",
       " Text(5, 0, 'Retail'),\n",
       " Text(6, 0, 'Parking'),\n",
       " Text(7, 0, 'Public services'),\n",
       " Text(8, 0, 'Food sales and service'),\n",
       " Text(9, 0, 'Utility'),\n",
       " Text(10, 0, 'Healthcare'),\n",
       " Text(11, 0, 'Warehouse/storage'),\n",
       " Text(12, 0, 'Religious worship'),\n",
       " Text(13, 0, 'Technology/science'),\n",
       " Text(14, 0, 'Services'),\n",
       " Text(15, 0, 'Manufacturing/industrial')]"
      ]
     },
     "execution_count": 76,
     "metadata": {},
     "output_type": "execute_result"
    },
    {
     "data": {
      "image/png": "[encoded data removed]",
      "text/plain": [
       "<Figure size 432x288 with 1 Axes>"
      ]
     },
     "metadata": {
      "needs_background": "light"
     },
     "output_type": "display_data"
    }
   ],
   "source": [
    "pu_distribution = pu_distribution.drop_duplicates()\n",
    "\n",
    "\n",
    "\n",
    "chart=sns.countplot(x='primary_use',data=pu_distribution)\n",
    "chart.set_xticklabels(chart.get_xticklabels(), rotation=67.5)"
   ]
  },
  {
   "cell_type": "code",
   "execution_count": null,
   "id": "better-tutorial",
   "metadata": {},
   "outputs": [],
   "source": []
  }
 ],
 "metadata": {
  "kernelspec": {
   "display_name": "Python 3",
   "language": "python",
   "name": "python3"
  },
  "language_info": {
   "codemirror_mode": {
    "name": "ipython",
    "version": 3
   },
   "file_extension": ".py",
   "mimetype": "text/x-python",
   "name": "python",
   "nbconvert_exporter": "python",
   "pygments_lexer": "ipython3",
   "version": "3.8.5"
  }
 },
 "nbformat": 4,
 "nbformat_minor": 5
}
