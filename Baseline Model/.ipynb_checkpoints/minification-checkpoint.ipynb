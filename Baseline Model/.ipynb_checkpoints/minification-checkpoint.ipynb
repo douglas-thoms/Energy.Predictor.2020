{
 "cells": [
  {
   "cell_type": "code",
   "execution_count": 74,
   "id": "correct-dress",
   "metadata": {},
   "outputs": [],
   "source": [
    "#NEED TO TRANSFORM TEST TOO"
   ]
  },
  {
   "cell_type": "code",
   "execution_count": 67,
   "id": "recreational-statement",
   "metadata": {},
   "outputs": [],
   "source": [
    "# General imports\n",
    "\n",
    "import numpy as np\n",
    "import pandas as pd\n",
    "import datetime as dt\n",
    "import os, gc, math\n",
    "import psycopg2"
   ]
  },
  {
   "cell_type": "code",
   "execution_count": 68,
   "id": "vertical-serbia",
   "metadata": {},
   "outputs": [
    {
     "name": "stdout",
     "output_type": "stream",
     "text": [
      "/home/douglas/Documents/github.passwords/energy.predictor.2020.config\n"
     ]
    }
   ],
   "source": [
    "#Variables\n",
    "path = os.path.join(os.path.expanduser('~'), 'Documents', 'github.passwords', 'energy.predictor.2020.config')\n",
    "print (path)\n",
    "\n",
    "myfile = open(path,\"rt\")\n",
    "config= myfile.read()\n",
    "\n",
    "\n",
    "\n"
   ]
  },
  {
   "cell_type": "code",
   "execution_count": 69,
   "id": "attended-constitution",
   "metadata": {},
   "outputs": [
    {
     "name": "stdout",
     "output_type": "stream",
     "text": [
      "PostgreSQL connection is closed\n"
     ]
    }
   ],
   "source": [
    "#count lines\n",
    "\n",
    "#  Read PostgreSQL into dataframe\n",
    "#connection\n",
    "connection = psycopg2.connect(config)\n",
    "\n",
    "cursor = connection.cursor()\n",
    "\n",
    "sql = '''\n",
    "        SELECT\n",
    "            COUNT(t.timestamp)\n",
    "        FROM\n",
    "            weather_train as w\n",
    "        INNER JOIN building_metadata as bm\n",
    "            ON (bm.site_id = w.site_id)\n",
    "        INNER JOIN train as t\n",
    "            ON (t.timestamp = w.timestamp) AND (t.building_id = bm.building_id)\n",
    "        WHERE\n",
    "                         w.timestamp IS NOT NULL \n",
    "             AND w.air_temperature IS NOT NULL \n",
    "             AND w.dew_temperature IS NOT NULL\n",
    "             AND w.sea_level_pressure IS NOT NULL \n",
    "             AND w.wind_direction IS NOT NULL \n",
    "             AND w.wind_speed IS NOT NULL\n",
    "       '''\n",
    "\n",
    "number_lines = pd.read_sql_query(sql,connection) \n",
    "\n",
    "if (connection):\n",
    "        cursor.close()\n",
    "        connection.close()\n",
    "        print(\"PostgreSQL connection is closed\")\n"
   ]
  },
  {
   "cell_type": "code",
   "execution_count": 70,
   "id": "wrong-shelf",
   "metadata": {},
   "outputs": [
    {
     "data": {
      "text/html": [
       "<div>\n",
       "<style scoped>\n",
       "    .dataframe tbody tr th:only-of-type {\n",
       "        vertical-align: middle;\n",
       "    }\n",
       "\n",
       "    .dataframe tbody tr th {\n",
       "        vertical-align: top;\n",
       "    }\n",
       "\n",
       "    .dataframe thead th {\n",
       "        text-align: right;\n",
       "    }\n",
       "</style>\n",
       "<table border=\"1\" class=\"dataframe\">\n",
       "  <thead>\n",
       "    <tr style=\"text-align: right;\">\n",
       "      <th></th>\n",
       "      <th>count</th>\n",
       "    </tr>\n",
       "  </thead>\n",
       "  <tbody>\n",
       "    <tr>\n",
       "      <th>0</th>\n",
       "      <td>17684654</td>\n",
       "    </tr>\n",
       "  </tbody>\n",
       "</table>\n",
       "</div>"
      ],
      "text/plain": [
       "      count\n",
       "0  17684654"
      ]
     },
     "execution_count": 70,
     "metadata": {},
     "output_type": "execute_result"
    }
   ],
   "source": [
    "number_lines"
   ]
  },
  {
   "cell_type": "code",
   "execution_count": 71,
   "id": "buried-stephen",
   "metadata": {},
   "outputs": [
    {
     "name": "stdout",
     "output_type": "stream",
     "text": [
      "PostgreSQL connection is closed\n"
     ]
    }
   ],
   "source": [
    "#count lines\n",
    "\n",
    "#  Read PostgreSQL into dataframe\n",
    "#connection\n",
    "connection = psycopg2.connect(config)\n",
    "\n",
    "cursor = connection.cursor()\n",
    "\n",
    "sql = '''\n",
    "        SELECT\n",
    "            bm.building_id,\n",
    "            bm.site_id,\n",
    "            t.meter,\n",
    "            t.timestamp,\n",
    "            t.meter_reading,\n",
    "            bm.primary_use,\n",
    "            bm.square_feet,\n",
    "            bm.year_built,\n",
    "            bm.floor_count,\n",
    "            w.air_temperature,\n",
    "            w.cloud_coverage,\n",
    "            w.dew_temperature,\n",
    "            w.precip_depth_1_hr,\n",
    "            w.sea_level_pressure,\n",
    "            w.wind_direction,\n",
    "            w.wind_speed       \n",
    "            \n",
    "        FROM\n",
    "            weather_train as w\n",
    "        INNER JOIN building_metadata as bm\n",
    "            ON (bm.site_id = w.site_id)\n",
    "        INNER JOIN train as t\n",
    "            ON (t.timestamp = w.timestamp) AND (t.building_id = bm.building_id)\n",
    "        WHERE\n",
    "                         w.timestamp IS NOT NULL \n",
    "             AND w.air_temperature IS NOT NULL \n",
    "             AND w.dew_temperature IS NOT NULL\n",
    "             AND w.sea_level_pressure IS NOT NULL \n",
    "             AND w.wind_direction IS NOT NULL \n",
    "             AND w.wind_speed IS NOT NULL\n",
    "       '''\n",
    "\n",
    "df = pd.read_sql_query(sql,connection) \n",
    "\n",
    "if (connection):\n",
    "        cursor.close()\n",
    "        connection.close()\n",
    "        print(\"PostgreSQL connection is closed\")\n"
   ]
  },
  {
   "cell_type": "code",
   "execution_count": 72,
   "id": "biblical-labor",
   "metadata": {},
   "outputs": [
    {
     "name": "stdout",
     "output_type": "stream",
     "text": [
      "<class 'pandas.core.frame.DataFrame'>\n",
      "RangeIndex: 17684654 entries, 0 to 17684653\n",
      "Data columns (total 16 columns):\n",
      " #   Column              Dtype         \n",
      "---  ------              -----         \n",
      " 0   building_id         int64         \n",
      " 1   site_id             int64         \n",
      " 2   meter               int64         \n",
      " 3   timestamp           datetime64[ns]\n",
      " 4   meter_reading       float64       \n",
      " 5   primary_use         object        \n",
      " 6   square_feet         int64         \n",
      " 7   year_built          float64       \n",
      " 8   floor_count         float64       \n",
      " 9   air_temperature     float64       \n",
      " 10  cloud_coverage      float64       \n",
      " 11  dew_temperature     float64       \n",
      " 12  precip_depth_1_hr   float64       \n",
      " 13  sea_level_pressure  float64       \n",
      " 14  wind_direction      float64       \n",
      " 15  wind_speed          float64       \n",
      "dtypes: datetime64[ns](1), float64(10), int64(4), object(1)\n",
      "memory usage: 2.1+ GB\n",
      "Main: ['building_id', 'site_id', 'meter', 'timestamp', 'meter_reading', 'primary_use', 'square_feet', 'year_built', 'floor_count', 'air_temperature', 'cloud_coverage', 'dew_temperature', 'precip_depth_1_hr', 'sea_level_pressure', 'wind_direction', 'wind_speed'] None\n"
     ]
    }
   ],
   "source": [
    "#data check\n",
    "print(\"Main:\",list(df),df.info())"
   ]
  },
  {
   "cell_type": "code",
   "execution_count": 73,
   "id": "brilliant-pennsylvania",
   "metadata": {},
   "outputs": [
    {
     "ename": "NameError",
     "evalue": "name 'LabelEncoder' is not defined",
     "output_type": "error",
     "traceback": [
      "\u001b[0;31m---------------------------------------------------------------------------\u001b[0m",
      "\u001b[0;31mNameError\u001b[0m                                 Traceback (most recent call last)",
      "\u001b[0;32m<ipython-input-73-178bd4daab73>\u001b[0m in \u001b[0;36m<module>\u001b[0;34m\u001b[0m\n\u001b[1;32m     15\u001b[0m \u001b[0mdf\u001b[0m\u001b[0;34m[\u001b[0m\u001b[0;34m'primary_use'\u001b[0m\u001b[0;34m]\u001b[0m \u001b[0;34m=\u001b[0m \u001b[0mdf\u001b[0m\u001b[0;34m[\u001b[0m\u001b[0;34m'primary_use'\u001b[0m\u001b[0;34m]\u001b[0m\u001b[0;34m.\u001b[0m\u001b[0mastype\u001b[0m\u001b[0;34m(\u001b[0m\u001b[0;34m'category'\u001b[0m\u001b[0;34m)\u001b[0m\u001b[0;34m\u001b[0m\u001b[0;34m\u001b[0m\u001b[0m\n\u001b[1;32m     16\u001b[0m \u001b[0;34m\u001b[0m\u001b[0m\n\u001b[0;32m---> 17\u001b[0;31m \u001b[0mle\u001b[0m \u001b[0;34m=\u001b[0m \u001b[0mLabelEncoder\u001b[0m\u001b[0;34m(\u001b[0m\u001b[0;34m)\u001b[0m\u001b[0;34m\u001b[0m\u001b[0;34m\u001b[0m\u001b[0m\n\u001b[0m\u001b[1;32m     18\u001b[0m \u001b[0mdf\u001b[0m\u001b[0;34m[\u001b[0m\u001b[0;34m'primary_use'\u001b[0m\u001b[0;34m]\u001b[0m \u001b[0;34m=\u001b[0m \u001b[0mdf\u001b[0m\u001b[0;34m[\u001b[0m\u001b[0;34m'primary_use'\u001b[0m\u001b[0;34m]\u001b[0m\u001b[0;34m.\u001b[0m\u001b[0mastype\u001b[0m\u001b[0;34m(\u001b[0m\u001b[0mstr\u001b[0m\u001b[0;34m)\u001b[0m\u001b[0;34m\u001b[0m\u001b[0;34m\u001b[0m\u001b[0m\n\u001b[1;32m     19\u001b[0m \u001b[0mdf\u001b[0m\u001b[0;34m[\u001b[0m\u001b[0;34m'primary_use'\u001b[0m\u001b[0;34m]\u001b[0m \u001b[0;34m=\u001b[0m \u001b[0mle\u001b[0m\u001b[0;34m.\u001b[0m\u001b[0mfit_transform\u001b[0m\u001b[0;34m(\u001b[0m\u001b[0mdf\u001b[0m\u001b[0;34m[\u001b[0m\u001b[0;34m'primary_use'\u001b[0m\u001b[0;34m]\u001b[0m\u001b[0;34m)\u001b[0m\u001b[0;34m.\u001b[0m\u001b[0mastype\u001b[0m\u001b[0;34m(\u001b[0m\u001b[0mnp\u001b[0m\u001b[0;34m.\u001b[0m\u001b[0mint8\u001b[0m\u001b[0;34m)\u001b[0m\u001b[0;34m\u001b[0m\u001b[0;34m\u001b[0m\u001b[0m\n",
      "\u001b[0;31mNameError\u001b[0m: name 'LabelEncoder' is not defined"
     ]
    }
   ],
   "source": [
    "#preprocess\n",
    "#timestamp\n",
    "for i in [df]:\n",
    "    i['DT_month'] = i['timestamp'].dt.month.astype(np.int8)\n",
    "    i['DT_week_y'] = i['timestamp'].dt.isocalendar().week.astype(np.int8)\n",
    "    i['DT_day_y'] = i['timestamp'].dt.dayofyear.astype(np.int8)\n",
    "    i['DT_hour'] = i['timestamp'].dt.hour.astype(np.int8)\n",
    "    i['DT_day_w'] = i['timestamp'].dt.dayofweek.astype(np.int8)\n",
    "    i['DT_day_m'] = i['timestamp'].dt.day.astype(np.int8)\n",
    "    i['DT_week_m'] = i['timestamp'].dt.day/7\n",
    "    i['DT_week_m'] = i['DT_week_m'].apply(lambda x: math.ceil(x)).astype(np.int8)    \n",
    "    \n",
    "\n",
    "#string to category\n",
    "df['primary_use'] = df['primary_use'].astype('category')\n",
    "\n",
    "le = LabelEncoder()\n",
    "df['primary_use'] = df['primary_use'].astype(str)\n",
    "df['primary_use'] = le.fit_transform(df['primary_use']).astype(np.int8)\n",
    "\n",
    "#fill empty - floor count NA = 0, year built = -999\n",
    "df['floor_count'] = df['floor_count'].fillna(0).astype(np.int8)\n",
    "df['year_built'] = df['year_built'].fillna(0).astype(np.int8)"
   ]
  },
  {
   "cell_type": "code",
   "execution_count": null,
   "id": "found-lounge",
   "metadata": {},
   "outputs": [],
   "source": [
    "#data check#data check\n",
    "print(\"Main:\",list(df),df.info())"
   ]
  },
  {
   "cell_type": "code",
   "execution_count": null,
   "id": "extensive-football",
   "metadata": {},
   "outputs": [],
   "source": []
  },
  {
   "cell_type": "code",
   "execution_count": null,
   "id": "choice-place",
   "metadata": {},
   "outputs": [],
   "source": []
  }
 ],
 "metadata": {
  "kernelspec": {
   "display_name": "Python 3",
   "language": "python",
   "name": "python3"
  },
  "language_info": {
   "codemirror_mode": {
    "name": "ipython",
    "version": 3
   },
   "file_extension": ".py",
   "mimetype": "text/x-python",
   "name": "python",
   "nbconvert_exporter": "python",
   "pygments_lexer": "ipython3",
   "version": "3.8.5"
  }
 },
 "nbformat": 4,
 "nbformat_minor": 5
}
