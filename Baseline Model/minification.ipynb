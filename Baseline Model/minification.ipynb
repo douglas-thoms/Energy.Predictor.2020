{
 "cells": [
  {
   "cell_type": "code",
   "execution_count": 1,
   "id": "recreational-statement",
   "metadata": {},
   "outputs": [],
   "source": [
    "# General imports\n",
    "\n",
    "import numpy as np\n",
    "import pandas as pd\n",
    "import datetime as dt\n",
    "import os, gc, math, warnings\n",
    "import psycopg2\n",
    "\n",
    "from sklearn.preprocessing import LabelEncoder"
   ]
  },
  {
   "cell_type": "code",
   "execution_count": 2,
   "id": "french-projector",
   "metadata": {},
   "outputs": [],
   "source": [
    "########################### Helpers\n",
    "#################################################################################\n",
    "## -------------------\n",
    "## Memory Reducer\n",
    "# :df pandas dataframe to reduce size             # type: pd.DataFrame()\n",
    "# :verbose                                        # type: bool\n",
    "def reduce_mem_usage(df, verbose=True):\n",
    "    numerics = ['int16', 'int32', 'int64', 'float16', 'float32', 'float64']\n",
    "    start_mem = df.memory_usage().sum() / 1024**2    \n",
    "    for col in df.columns:\n",
    "        col_type = df[col].dtypes\n",
    "        if col_type in numerics:\n",
    "            c_min = df[col].min()\n",
    "            c_max = df[col].max()\n",
    "            if str(col_type)[:3] == 'int':\n",
    "                if c_min > np.iinfo(np.int8).min and c_max < np.iinfo(np.int8).max:\n",
    "                    df[col] = df[col].astype(np.int8)\n",
    "                elif c_min > np.iinfo(np.int16).min and c_max < np.iinfo(np.int16).max:\n",
    "                    df[col] = df[col].astype(np.int16)\n",
    "                elif c_min > np.iinfo(np.int32).min and c_max < np.iinfo(np.int32).max:\n",
    "                    df[col] = df[col].astype(np.int32)\n",
    "                elif c_min > np.iinfo(np.int64).min and c_max < np.iinfo(np.int64).max:\n",
    "                    df[col] = df[col].astype(np.int64)  \n",
    "            else:\n",
    "                if c_min > np.finfo(np.float16).min and c_max < np.finfo(np.float16).max:\n",
    "                    df[col] = df[col].astype(np.float16)\n",
    "                elif c_min > np.finfo(np.float32).min and c_max < np.finfo(np.float32).max:\n",
    "                    df[col] = df[col].astype(np.float32)\n",
    "                else:\n",
    "                    df[col] = df[col].astype(np.float64)    \n",
    "    end_mem = df.memory_usage().sum() / 1024**2\n",
    "    if verbose: print('Mem. usage decreased to {:5.2f} Mb ({:.1f}% reduction)'.format(end_mem, 100 * (start_mem - end_mem) / start_mem))\n",
    "    return df\n",
    "## -------------------\n"
   ]
  },
  {
   "cell_type": "code",
   "execution_count": 3,
   "id": "vertical-serbia",
   "metadata": {},
   "outputs": [
    {
     "name": "stdout",
     "output_type": "stream",
     "text": [
      "/home/douglas/Documents/github.passwords/energy.predictor.2020.config\n"
     ]
    }
   ],
   "source": [
    "#Variables\n",
    "path = os.path.join(os.path.expanduser('~'), 'Documents', 'github.passwords', 'energy.predictor.2020.config')\n",
    "print (path)\n",
    "\n",
    "myfile = open(path,\"rt\")\n",
    "config= myfile.read()"
   ]
  },
  {
   "cell_type": "code",
   "execution_count": 4,
   "id": "grateful-elements",
   "metadata": {},
   "outputs": [
    {
     "name": "stdout",
     "output_type": "stream",
     "text": [
      "PostgreSQL connection is closed\n"
     ]
    }
   ],
   "source": [
    "#submission\n",
    "\n",
    "#  Read PostgreSQL into dataframe\n",
    "#connection\n",
    "connection = psycopg2.connect(config)\n",
    "\n",
    "cursor = connection.cursor()\n",
    "\n",
    "sql = '''\n",
    "        SELECT\n",
    "            row_id,\n",
    "            meter_reading\n",
    "        FROM\n",
    "            submission\n",
    "       '''\n",
    "\n",
    "submission = pd.read_sql_query(sql,connection) \n",
    "\n",
    "if (connection):\n",
    "        cursor.close()\n",
    "        connection.close()\n",
    "        print(\"PostgreSQL connection is closed\")\n"
   ]
  },
  {
   "cell_type": "code",
   "execution_count": 5,
   "id": "bibliographic-monday",
   "metadata": {},
   "outputs": [
    {
     "name": "stdout",
     "output_type": "stream",
     "text": [
      "<class 'pandas.core.frame.DataFrame'>\n",
      "RangeIndex: 41697600 entries, 0 to 41697599\n",
      "Data columns (total 2 columns):\n",
      " #   Column         Dtype\n",
      "---  ------         -----\n",
      " 0   row_id         int64\n",
      " 1   meter_reading  int64\n",
      "dtypes: int64(2)\n",
      "memory usage: 636.3 MB\n",
      "Main: ['row_id', 'meter_reading'] None\n"
     ]
    }
   ],
   "source": [
    "#data check\n",
    "print(\"Main:\",list(submission),submission.info())"
   ]
  },
  {
   "cell_type": "code",
   "execution_count": 6,
   "id": "attended-constitution",
   "metadata": {},
   "outputs": [
    {
     "name": "stdout",
     "output_type": "stream",
     "text": [
      "PostgreSQL connection is closed\n"
     ]
    }
   ],
   "source": [
    "#count lines\n",
    "\n",
    "#  Read PostgreSQL into dataframe\n",
    "#connection\n",
    "connection = psycopg2.connect(config)\n",
    "\n",
    "cursor = connection.cursor()\n",
    "\n",
    "sql = '''\n",
    "        SELECT\n",
    "            COUNT(t.timestamp)\n",
    "        FROM\n",
    "            weather_train as w\n",
    "        INNER JOIN building_metadata as bm\n",
    "            ON (bm.site_id = w.site_id)\n",
    "        INNER JOIN train as t\n",
    "            ON (t.timestamp = w.timestamp) AND (t.building_id = bm.building_id)\n",
    "        WHERE\n",
    "                         w.timestamp IS NOT NULL \n",
    "             AND w.air_temperature IS NOT NULL \n",
    "             AND w.dew_temperature IS NOT NULL\n",
    "             AND w.sea_level_pressure IS NOT NULL \n",
    "             AND w.wind_direction IS NOT NULL \n",
    "             AND w.wind_speed IS NOT NULL\n",
    "       '''\n",
    "\n",
    "number_lines = pd.read_sql_query(sql,connection) \n",
    "\n",
    "if (connection):\n",
    "        cursor.close()\n",
    "        connection.close()\n",
    "        print(\"PostgreSQL connection is closed\")\n"
   ]
  },
  {
   "cell_type": "code",
   "execution_count": 7,
   "id": "wrong-shelf",
   "metadata": {},
   "outputs": [],
   "source": [
    "#number_lines"
   ]
  },
  {
   "cell_type": "code",
   "execution_count": 10,
   "id": "buried-stephen",
   "metadata": {},
   "outputs": [
    {
     "name": "stdout",
     "output_type": "stream",
     "text": [
      "PostgreSQL connection is closed\n"
     ]
    }
   ],
   "source": [
    "#SQL JOIN Most likely not working because gaps in the weather timestamps, so meter reading timestamps being eliminated\n",
    "\n",
    "\n",
    "#  Read PostgreSQL into dataframe\n",
    "#connection\n",
    "connection = psycopg2.connect(config)\n",
    "\n",
    "cursor = connection.cursor()\n",
    "\n",
    "sql = '''\n",
    "        SELECT\n",
    "\n",
    "            t.meter,\n",
    "            t.timestamp,\n",
    "            t.meter_reading,\n",
    "            bm.primary_use\n",
    "            \n",
    "        FROM\n",
    "            train as t\n",
    "        LEFT JOIN building_metadata as bm\n",
    "            ON (bm.building_id = t.building_id)\n",
    "        FULL JOIN weather_train as w\n",
    "            ON (t.timestamp=w.timestamp)\n",
    "        WHERE \n",
    "            w.site_id = bm.site_id\n",
    "\n",
    "       '''\n",
    "\n",
    "train_df = pd.read_sql_query(sql,connection) \n",
    "\n",
    "if (connection):\n",
    "        cursor.close()\n",
    "        connection.close()\n",
    "        print(\"PostgreSQL connection is closed\")\n"
   ]
  },
  {
   "cell_type": "code",
   "execution_count": 11,
   "id": "biblical-labor",
   "metadata": {},
   "outputs": [
    {
     "name": "stdout",
     "output_type": "stream",
     "text": [
      "<class 'pandas.core.frame.DataFrame'>\n",
      "RangeIndex: 20125605 entries, 0 to 20125604\n",
      "Data columns (total 4 columns):\n",
      " #   Column         Dtype         \n",
      "---  ------         -----         \n",
      " 0   meter          int64         \n",
      " 1   timestamp      datetime64[ns]\n",
      " 2   meter_reading  float64       \n",
      " 3   primary_use    object        \n",
      "dtypes: datetime64[ns](1), float64(1), int64(1), object(1)\n",
      "memory usage: 614.2+ MB\n",
      "Main: ['meter', 'timestamp', 'meter_reading', 'primary_use'] None\n"
     ]
    }
   ],
   "source": [
    "#data check\n",
    "print(\"Main:\",list(train_df),train_df.info())"
   ]
  },
  {
   "cell_type": "code",
   "execution_count": 36,
   "id": "opposed-belgium",
   "metadata": {},
   "outputs": [
    {
     "name": "stdout",
     "output_type": "stream",
     "text": [
      "PostgreSQL connection is closed\n"
     ]
    }
   ],
   "source": [
    "#  Read PostgreSQL into dataframe\n",
    "#connection\n",
    "connection = psycopg2.connect(config)\n",
    "\n",
    "cursor = connection.cursor()\n",
    "\n",
    "sql = '''\n",
    "        SELECT\n",
    "            bm.building_id,\n",
    "            bm.site_id,\n",
    "            t.meter,\n",
    "            t.timestamp,\n",
    "            bm.primary_use,\n",
    "            bm.square_feet,\n",
    "            bm.year_built,\n",
    "            bm.floor_count,\n",
    "            w.air_temperature,\n",
    "            w.cloud_coverage,\n",
    "            w.dew_temperature,\n",
    "            w.precip_depth_1_hr,\n",
    "            w.sea_level_pressure,\n",
    "            w.wind_direction,\n",
    "            w.wind_speed       \n",
    "            \n",
    "        FROM\n",
    "            weather_test as w\n",
    "        INNER JOIN building_metadata as bm\n",
    "            ON (bm.site_id = w.site_id)\n",
    "        INNER JOIN test as t\n",
    "            ON (t.timestamp = w.timestamp) AND (t.building_id = bm.building_id)\n",
    "       '''\n",
    "\n",
    "test_df = pd.read_sql_query(sql,connection) \n",
    "\n",
    "if (connection):\n",
    "        cursor.close()\n",
    "        connection.close()\n",
    "        print(\"PostgreSQL connection is closed\")\n"
   ]
  },
  {
   "cell_type": "code",
   "execution_count": 37,
   "id": "drawn-reggae",
   "metadata": {},
   "outputs": [
    {
     "name": "stdout",
     "output_type": "stream",
     "text": [
      "<class 'pandas.core.frame.DataFrame'>\n",
      "RangeIndex: 41498571 entries, 0 to 41498570\n",
      "Data columns (total 15 columns):\n",
      " #   Column              Dtype         \n",
      "---  ------              -----         \n",
      " 0   building_id         int64         \n",
      " 1   site_id             int64         \n",
      " 2   meter               int64         \n",
      " 3   timestamp           datetime64[ns]\n",
      " 4   primary_use         object        \n",
      " 5   square_feet         int64         \n",
      " 6   year_built          float64       \n",
      " 7   floor_count         float64       \n",
      " 8   air_temperature     float64       \n",
      " 9   cloud_coverage      float64       \n",
      " 10  dew_temperature     float64       \n",
      " 11  precip_depth_1_hr   float64       \n",
      " 12  sea_level_pressure  float64       \n",
      " 13  wind_direction      float64       \n",
      " 14  wind_speed          float64       \n",
      "dtypes: datetime64[ns](1), float64(9), int64(4), object(1)\n",
      "memory usage: 4.6+ GB\n",
      "Main: ['building_id', 'site_id', 'meter', 'timestamp', 'primary_use', 'square_feet', 'year_built', 'floor_count', 'air_temperature', 'cloud_coverage', 'dew_temperature', 'precip_depth_1_hr', 'sea_level_pressure', 'wind_direction', 'wind_speed'] None\n"
     ]
    }
   ],
   "source": [
    "#data check\n",
    "print(\"Main:\",list(test_df),test_df.info())"
   ]
  },
  {
   "cell_type": "code",
   "execution_count": 38,
   "id": "brilliant-pennsylvania",
   "metadata": {},
   "outputs": [],
   "source": [
    "#preprocess\n",
    "#timestamp\n",
    "for df in [train_df,test_df]:\n",
    "    df['DT_month'] = df['timestamp'].dt.month.astype(np.int8)\n",
    "    df['DT_week_y'] = df['timestamp'].dt.isocalendar().week.astype(np.int8)\n",
    "    df['DT_day_y'] = df['timestamp'].dt.dayofyear.astype(np.int8)\n",
    "    df['DT_hour'] = df['timestamp'].dt.hour.astype(np.int8)\n",
    "    df['DT_day_w'] = df['timestamp'].dt.dayofweek.astype(np.int8)\n",
    "    df['DT_day_m'] = df['timestamp'].dt.day.astype(np.int8)\n",
    "    df['DT_week_m'] = df['timestamp'].dt.day/7\n",
    "    df['DT_week_m'] = df['DT_week_m'].apply(lambda x: math.ceil(x)).astype(np.int8)    \n",
    "    \n",
    "\n",
    "#string to category\n",
    "le = LabelEncoder()\n",
    "\n",
    "for df in [train_df,test_df]:\n",
    "    df['primary_use'] = df['primary_use'].astype('category')\n",
    "    df['primary_use'] = df['primary_use'].astype(str)\n",
    "    df['primary_use'] = le.fit_transform(df['primary_use']).astype(np.int8)\n",
    "\n",
    "#fill empty - floor count NA = 0, year built = -999\n",
    "    df['floor_count'] = df['floor_count'].fillna(0).astype(np.int8)\n",
    "    df['year_built'] = df['year_built'].fillna(0).astype(np.int8)"
   ]
  },
  {
   "cell_type": "code",
   "execution_count": 39,
   "id": "found-lounge",
   "metadata": {},
   "outputs": [
    {
     "name": "stdout",
     "output_type": "stream",
     "text": [
      "<class 'pandas.core.frame.DataFrame'>\n",
      "RangeIndex: 17684654 entries, 0 to 17684653\n",
      "Data columns (total 23 columns):\n",
      " #   Column              Dtype         \n",
      "---  ------              -----         \n",
      " 0   building_id         int64         \n",
      " 1   site_id             int64         \n",
      " 2   meter               int64         \n",
      " 3   timestamp           datetime64[ns]\n",
      " 4   meter_reading       float64       \n",
      " 5   primary_use         int8          \n",
      " 6   square_feet         int64         \n",
      " 7   year_built          int8          \n",
      " 8   floor_count         int8          \n",
      " 9   air_temperature     float64       \n",
      " 10  cloud_coverage      float64       \n",
      " 11  dew_temperature     float64       \n",
      " 12  precip_depth_1_hr   float64       \n",
      " 13  sea_level_pressure  float64       \n",
      " 14  wind_direction      float64       \n",
      " 15  wind_speed          float64       \n",
      " 16  DT_month            int8          \n",
      " 17  DT_week_y           int8          \n",
      " 18  DT_day_y            int8          \n",
      " 19  DT_hour             int8          \n",
      " 20  DT_day_w            int8          \n",
      " 21  DT_day_m            int8          \n",
      " 22  DT_week_m           int8          \n",
      "dtypes: datetime64[ns](1), float64(8), int64(4), int8(10)\n",
      "memory usage: 1.9 GB\n",
      "Main: ['building_id', 'site_id', 'meter', 'timestamp', 'meter_reading', 'primary_use', 'square_feet', 'year_built', 'floor_count', 'air_temperature', 'cloud_coverage', 'dew_temperature', 'precip_depth_1_hr', 'sea_level_pressure', 'wind_direction', 'wind_speed', 'DT_month', 'DT_week_y', 'DT_day_y', 'DT_hour', 'DT_day_w', 'DT_day_m', 'DT_week_m'] None\n",
      "####################\n",
      "<class 'pandas.core.frame.DataFrame'>\n",
      "RangeIndex: 41498571 entries, 0 to 41498570\n",
      "Data columns (total 22 columns):\n",
      " #   Column              Dtype         \n",
      "---  ------              -----         \n",
      " 0   building_id         int64         \n",
      " 1   site_id             int64         \n",
      " 2   meter               int64         \n",
      " 3   timestamp           datetime64[ns]\n",
      " 4   primary_use         int8          \n",
      " 5   square_feet         int64         \n",
      " 6   year_built          int8          \n",
      " 7   floor_count         int8          \n",
      " 8   air_temperature     float64       \n",
      " 9   cloud_coverage      float64       \n",
      " 10  dew_temperature     float64       \n",
      " 11  precip_depth_1_hr   float64       \n",
      " 12  sea_level_pressure  float64       \n",
      " 13  wind_direction      float64       \n",
      " 14  wind_speed          float64       \n",
      " 15  DT_month            int8          \n",
      " 16  DT_week_y           int8          \n",
      " 17  DT_day_y            int8          \n",
      " 18  DT_hour             int8          \n",
      " 19  DT_day_w            int8          \n",
      " 20  DT_day_m            int8          \n",
      " 21  DT_week_m           int8          \n",
      "dtypes: datetime64[ns](1), float64(7), int64(4), int8(10)\n",
      "memory usage: 4.1 GB\n",
      "Main: ['building_id', 'site_id', 'meter', 'timestamp', 'primary_use', 'square_feet', 'year_built', 'floor_count', 'air_temperature', 'cloud_coverage', 'dew_temperature', 'precip_depth_1_hr', 'sea_level_pressure', 'wind_direction', 'wind_speed', 'DT_month', 'DT_week_y', 'DT_day_y', 'DT_hour', 'DT_day_w', 'DT_day_m', 'DT_week_m'] None\n"
     ]
    }
   ],
   "source": [
    "#data check\n",
    "print(\"Main:\",list(train_df),train_df.info())\n",
    "print(\"#\" * 20)\n",
    "print(\"Main:\",list(test_df),test_df.info())"
   ]
  },
  {
   "cell_type": "code",
   "execution_count": 40,
   "id": "extensive-football",
   "metadata": {},
   "outputs": [
    {
     "name": "stdout",
     "output_type": "stream",
     "text": [
      "Mem. usage decreased to 742.08 Mb (61.4% reduction)\n",
      "Bad transformation meter_reading\n",
      "Bad transformation air_temperature\n",
      "Bad transformation dew_temperature\n",
      "Bad transformation sea_level_pressure\n",
      "Bad transformation wind_speed\n",
      "Mem. usage decreased to 1583.04 Mb (62.3% reduction)\n",
      "Bad transformation air_temperature\n",
      "Bad transformation dew_temperature\n",
      "Bad transformation sea_level_pressure\n",
      "Bad transformation wind_speed\n"
     ]
    }
   ],
   "source": [
    "do_not_convert = ['category','datetime64[ns]','object']\n",
    "for df in [train_df, test_df]:\n",
    "    original = df.copy()\n",
    "    df = reduce_mem_usage(df)\n",
    "\n",
    "    for col in list(df):\n",
    "        if df[col].dtype.name not in do_not_convert:\n",
    "            if (df[col]-original[col]).sum()!=0:\n",
    "                df[col] = original[col]\n",
    "                print('Bad transformation', col)"
   ]
  },
  {
   "cell_type": "code",
   "execution_count": 41,
   "id": "choice-place",
   "metadata": {},
   "outputs": [
    {
     "name": "stdout",
     "output_type": "stream",
     "text": [
      "<class 'pandas.core.frame.DataFrame'>\n",
      "RangeIndex: 17684654 entries, 0 to 17684653\n",
      "Data columns (total 23 columns):\n",
      " #   Column              Dtype         \n",
      "---  ------              -----         \n",
      " 0   building_id         int16         \n",
      " 1   site_id             int8          \n",
      " 2   meter               int8          \n",
      " 3   timestamp           datetime64[ns]\n",
      " 4   meter_reading       float64       \n",
      " 5   primary_use         int8          \n",
      " 6   square_feet         int32         \n",
      " 7   year_built          int8          \n",
      " 8   floor_count         int8          \n",
      " 9   air_temperature     float64       \n",
      " 10  cloud_coverage      float16       \n",
      " 11  dew_temperature     float64       \n",
      " 12  precip_depth_1_hr   float16       \n",
      " 13  sea_level_pressure  float64       \n",
      " 14  wind_direction      float16       \n",
      " 15  wind_speed          float64       \n",
      " 16  DT_month            int8          \n",
      " 17  DT_week_y           int8          \n",
      " 18  DT_day_y            int8          \n",
      " 19  DT_hour             int8          \n",
      " 20  DT_day_w            int8          \n",
      " 21  DT_day_m            int8          \n",
      " 22  DT_week_m           int8          \n",
      "dtypes: datetime64[ns](1), float16(3), float64(5), int16(1), int32(1), int8(12)\n",
      "memory usage: 1.2 GB\n",
      "Main: ['building_id', 'site_id', 'meter', 'timestamp', 'meter_reading', 'primary_use', 'square_feet', 'year_built', 'floor_count', 'air_temperature', 'cloud_coverage', 'dew_temperature', 'precip_depth_1_hr', 'sea_level_pressure', 'wind_direction', 'wind_speed', 'DT_month', 'DT_week_y', 'DT_day_y', 'DT_hour', 'DT_day_w', 'DT_day_m', 'DT_week_m'] None\n",
      "####################\n",
      "<class 'pandas.core.frame.DataFrame'>\n",
      "RangeIndex: 41498571 entries, 0 to 41498570\n",
      "Data columns (total 22 columns):\n",
      " #   Column              Dtype         \n",
      "---  ------              -----         \n",
      " 0   building_id         int16         \n",
      " 1   site_id             int8          \n",
      " 2   meter               int8          \n",
      " 3   timestamp           datetime64[ns]\n",
      " 4   primary_use         int8          \n",
      " 5   square_feet         int32         \n",
      " 6   year_built          int8          \n",
      " 7   floor_count         int8          \n",
      " 8   air_temperature     float64       \n",
      " 9   cloud_coverage      float16       \n",
      " 10  dew_temperature     float64       \n",
      " 11  precip_depth_1_hr   float16       \n",
      " 12  sea_level_pressure  float64       \n",
      " 13  wind_direction      float16       \n",
      " 14  wind_speed          float64       \n",
      " 15  DT_month            int8          \n",
      " 16  DT_week_y           int8          \n",
      " 17  DT_day_y            int8          \n",
      " 18  DT_hour             int8          \n",
      " 19  DT_day_w            int8          \n",
      " 20  DT_day_m            int8          \n",
      " 21  DT_week_m           int8          \n",
      "dtypes: datetime64[ns](1), float16(3), float64(4), int16(1), int32(1), int8(12)\n",
      "memory usage: 2.5 GB\n",
      "Main: ['building_id', 'site_id', 'meter', 'timestamp', 'primary_use', 'square_feet', 'year_built', 'floor_count', 'air_temperature', 'cloud_coverage', 'dew_temperature', 'precip_depth_1_hr', 'sea_level_pressure', 'wind_direction', 'wind_speed', 'DT_month', 'DT_week_y', 'DT_day_y', 'DT_hour', 'DT_day_w', 'DT_day_m', 'DT_week_m'] None\n"
     ]
    }
   ],
   "source": [
    "#data check#data check\n",
    "print(\"Main:\",list(train_df),train_df.info())\n",
    "print(\"#\" * 20)\n",
    "print(\"Main:\",list(test_df),test_df.info())"
   ]
  },
  {
   "cell_type": "code",
   "execution_count": 42,
   "id": "seventh-grounds",
   "metadata": {},
   "outputs": [],
   "source": [
    "submission.to_pickle('submission.pkl')\n",
    "train_df.to_pickle('train_df.pkl')\n",
    "test_df.to_pickle('test_df.pkl')"
   ]
  },
  {
   "cell_type": "code",
   "execution_count": null,
   "id": "rapid-string",
   "metadata": {},
   "outputs": [],
   "source": []
  }
 ],
 "metadata": {
  "kernelspec": {
   "display_name": "Python 3",
   "language": "python",
   "name": "python3"
  },
  "language_info": {
   "codemirror_mode": {
    "name": "ipython",
    "version": 3
   },
   "file_extension": ".py",
   "mimetype": "text/x-python",
   "name": "python",
   "nbconvert_exporter": "python",
   "pygments_lexer": "ipython3",
   "version": "3.8.5"
  }
 },
 "nbformat": 4,
 "nbformat_minor": 5
}
