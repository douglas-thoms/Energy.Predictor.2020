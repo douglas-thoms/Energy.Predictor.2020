{
 "cells": [
  {
   "cell_type": "markdown",
   "id": "intensive-inclusion",
   "metadata": {},
   "source": [
    "# Overview\n",
    "\n",
    "- this is a baseline model to determine immediate performance\n",
    "- will use gradient boost modelling using package lightgbm\n",
    "- no data cleaning feature engineering to be used"
   ]
  },
  {
   "cell_type": "code",
   "execution_count": 3,
   "id": "alternate-henry",
   "metadata": {},
   "outputs": [],
   "source": [
    "# General Imports\n",
    "\n",
    "import numpy as np\n",
    "import pandas as pd\n",
    "import pickle\n",
    "\n",
    "import os, gc, sys, warnings, random, psycopg2"
   ]
  },
  {
   "cell_type": "code",
   "execution_count": 4,
   "id": "empty-wallace",
   "metadata": {},
   "outputs": [],
   "source": [
    "# Functions\n",
    "\n",
    "def seed_everything(seed=0):\n",
    "    random.seed(seed)\n",
    "    np.random.seed(seed)"
   ]
  },
  {
   "cell_type": "code",
   "execution_count": 8,
   "id": "junior-ecology",
   "metadata": {},
   "outputs": [],
   "source": [
    "# open pickle files\n",
    "\n",
    "train_df = pd.read_pickle('train_df.pkl')\n",
    "test_df = pd.read_pickle('test_df.pkl')"
   ]
  },
  {
   "cell_type": "code",
   "execution_count": 9,
   "id": "viral-arrest",
   "metadata": {},
   "outputs": [
    {
     "name": "stdout",
     "output_type": "stream",
     "text": [
      "<class 'pandas.core.frame.DataFrame'>\n",
      "RangeIndex: 17684654 entries, 0 to 17684653\n",
      "Data columns (total 23 columns):\n",
      " #   Column              Dtype         \n",
      "---  ------              -----         \n",
      " 0   building_id         int16         \n",
      " 1   site_id             int8          \n",
      " 2   meter               int8          \n",
      " 3   timestamp           datetime64[ns]\n",
      " 4   meter_reading       float64       \n",
      " 5   primary_use         int8          \n",
      " 6   square_feet         int32         \n",
      " 7   year_built          int8          \n",
      " 8   floor_count         int8          \n",
      " 9   air_temperature     float64       \n",
      " 10  cloud_coverage      float16       \n",
      " 11  dew_temperature     float64       \n",
      " 12  precip_depth_1_hr   float16       \n",
      " 13  sea_level_pressure  float64       \n",
      " 14  wind_direction      float16       \n",
      " 15  wind_speed          float64       \n",
      " 16  DT_month            int8          \n",
      " 17  DT_week_y           int8          \n",
      " 18  DT_day_y            int8          \n",
      " 19  DT_hour             int8          \n",
      " 20  DT_day_w            int8          \n",
      " 21  DT_day_m            int8          \n",
      " 22  DT_week_m           int8          \n",
      "dtypes: datetime64[ns](1), float16(3), float64(5), int16(1), int32(1), int8(12)\n",
      "memory usage: 1.2 GB\n",
      "Main: ['building_id', 'site_id', 'meter', 'timestamp', 'meter_reading', 'primary_use', 'square_feet', 'year_built', 'floor_count', 'air_temperature', 'cloud_coverage', 'dew_temperature', 'precip_depth_1_hr', 'sea_level_pressure', 'wind_direction', 'wind_speed', 'DT_month', 'DT_week_y', 'DT_day_y', 'DT_hour', 'DT_day_w', 'DT_day_m', 'DT_week_m'] None\n",
      "####################\n",
      "<class 'pandas.core.frame.DataFrame'>\n",
      "RangeIndex: 36491273 entries, 0 to 36491272\n",
      "Data columns (total 22 columns):\n",
      " #   Column              Dtype         \n",
      "---  ------              -----         \n",
      " 0   building_id         int16         \n",
      " 1   site_id             int8          \n",
      " 2   meter               int8          \n",
      " 3   timestamp           datetime64[ns]\n",
      " 4   primary_use         int8          \n",
      " 5   square_feet         int32         \n",
      " 6   year_built          int8          \n",
      " 7   floor_count         int8          \n",
      " 8   air_temperature     float64       \n",
      " 9   cloud_coverage      float16       \n",
      " 10  dew_temperature     float64       \n",
      " 11  precip_depth_1_hr   float16       \n",
      " 12  sea_level_pressure  float64       \n",
      " 13  wind_direction      float16       \n",
      " 14  wind_speed          float64       \n",
      " 15  DT_month            int8          \n",
      " 16  DT_week_y           int8          \n",
      " 17  DT_day_y            int8          \n",
      " 18  DT_hour             int8          \n",
      " 19  DT_day_w            int8          \n",
      " 20  DT_day_m            int8          \n",
      " 21  DT_week_m           int8          \n",
      "dtypes: datetime64[ns](1), float16(3), float64(4), int16(1), int32(1), int8(12)\n",
      "memory usage: 2.2 GB\n",
      "Main: ['building_id', 'site_id', 'meter', 'timestamp', 'primary_use', 'square_feet', 'year_built', 'floor_count', 'air_temperature', 'cloud_coverage', 'dew_temperature', 'precip_depth_1_hr', 'sea_level_pressure', 'wind_direction', 'wind_speed', 'DT_month', 'DT_week_y', 'DT_day_y', 'DT_hour', 'DT_day_w', 'DT_day_m', 'DT_week_m'] None\n"
     ]
    }
   ],
   "source": [
    "#data check#data check\n",
    "print(\"Main:\",list(train_df),train_df.info())\n",
    "print(\"#\" * 20)\n",
    "print(\"Main:\",list(test_df),test_df.info())"
   ]
  },
  {
   "cell_type": "code",
   "execution_count": 6,
   "id": "younger-machinery",
   "metadata": {},
   "outputs": [],
   "source": [
    "# Check memory usage"
   ]
  },
  {
   "cell_type": "code",
   "execution_count": 7,
   "id": "double-playing",
   "metadata": {},
   "outputs": [],
   "source": [
    "# Model Parameters\n",
    "import lightgbm as lgb"
   ]
  },
  {
   "cell_type": "code",
   "execution_count": null,
   "id": "identical-average",
   "metadata": {},
   "outputs": [],
   "source": [
    "#Save model"
   ]
  }
 ],
 "metadata": {
  "kernelspec": {
   "display_name": "Python 3",
   "language": "python",
   "name": "python3"
  },
  "language_info": {
   "codemirror_mode": {
    "name": "ipython",
    "version": 3
   },
   "file_extension": ".py",
   "mimetype": "text/x-python",
   "name": "python",
   "nbconvert_exporter": "python",
   "pygments_lexer": "ipython3",
   "version": "3.8.5"
  }
 },
 "nbformat": 4,
 "nbformat_minor": 5
}
