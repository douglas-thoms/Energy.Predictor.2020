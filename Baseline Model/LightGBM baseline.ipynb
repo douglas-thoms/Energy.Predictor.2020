{
 "cells": [
  {
   "cell_type": "markdown",
   "id": "intensive-inclusion",
   "metadata": {},
   "source": [
    "# Overview\n",
    "\n",
    "- this is a baseline model to determine immediate performance\n",
    "- will use gradient boost modelling using package lightgbm\n",
    "- no data cleaning feature engineering to be used"
   ]
  },
  {
   "cell_type": "code",
   "execution_count": null,
   "id": "muslim-football",
   "metadata": {},
   "outputs": [],
   "source": [
    "# do minification first, its preprocessing"
   ]
  },
  {
   "cell_type": "code",
   "execution_count": 11,
   "id": "alternate-henry",
   "metadata": {},
   "outputs": [],
   "source": [
    "# General Imports\n",
    "\n",
    "import numpy as np\n",
    "import pandas as pd\n",
    "\n",
    "import os, gc, sys, warnings, random, psycopg2"
   ]
  },
  {
   "cell_type": "code",
   "execution_count": 12,
   "id": "empty-wallace",
   "metadata": {},
   "outputs": [],
   "source": [
    "# Functions\n",
    "\n",
    "def seed_everything(seed=0):\n",
    "    random.seed(seed)\n",
    "    np.random.seed(seed)"
   ]
  },
  {
   "cell_type": "code",
   "execution_count": 13,
   "id": "alone-commerce",
   "metadata": {},
   "outputs": [
    {
     "name": "stdout",
     "output_type": "stream",
     "text": [
      "/home/douglas/Documents/github.passwords/energy.predictor.2020.config\n"
     ]
    }
   ],
   "source": [
    "# Variables\n",
    "path = os.path.join(os.path.expanduser('~'), 'Documents', 'github.passwords', 'energy.predictor.2020.config')\n",
    "print (path)\n",
    "\n",
    "myfile = open(path,\"rt\")\n",
    "config= myfile.read()\n"
   ]
  },
  {
   "cell_type": "code",
   "execution_count": 14,
   "id": "stuck-yield",
   "metadata": {},
   "outputs": [],
   "source": [
    "# Data load and Wrangling\n",
    "\n",
    "\n",
    "#  Read PostgreSQL into dataframe\n",
    "\n",
    "connection = psycopg2.connect(config)\n",
    "\n",
    "cursor = connection.cursor()\n",
    "\n",
    "sql = '''\n",
    "        SELECT\n",
    "            COUNT(t.timestamp)\n",
    "        FROM\n",
    "            weather_train as w\n",
    "        INNER JOIN building_metadata as bm\n",
    "            ON (bm.site_id = w.site_id)\n",
    "        INNER JOIN train as t\n",
    "            ON (t.timestamp = w.timestamp) AND (t.building_id = bm.building_id)\n",
    "        WHERE\n",
    "                         w.timestamp IS NOT NULL \n",
    "             AND w.air_temperature IS NOT NULL \n",
    "             AND w.dew_temperature IS NOT NULL\n",
    "             AND w.sea_level_pressure IS NOT NULL \n",
    "             AND w.wind_direction IS NOT NULL \n",
    "             AND w.wind_speed IS NOT NULL\n",
    "       '''\n",
    "\n",
    "number_lines = pd.read_sql_query(sql,connection) \n",
    "\n",
    "if (connection):\n",
    "        cursor.close()\n",
    "        connection.close()\n",
    "        print(\"PostgreSQL connection is closed\")"
   ]
  },
  {
   "cell_type": "code",
   "execution_count": 15,
   "id": "textile-petersburg",
   "metadata": {},
   "outputs": [
    {
     "data": {
      "text/html": [
       "<div>\n",
       "<style scoped>\n",
       "    .dataframe tbody tr th:only-of-type {\n",
       "        vertical-align: middle;\n",
       "    }\n",
       "\n",
       "    .dataframe tbody tr th {\n",
       "        vertical-align: top;\n",
       "    }\n",
       "\n",
       "    .dataframe thead th {\n",
       "        text-align: right;\n",
       "    }\n",
       "</style>\n",
       "<table border=\"1\" class=\"dataframe\">\n",
       "  <thead>\n",
       "    <tr style=\"text-align: right;\">\n",
       "      <th></th>\n",
       "      <th>count</th>\n",
       "    </tr>\n",
       "  </thead>\n",
       "  <tbody>\n",
       "    <tr>\n",
       "      <th>0</th>\n",
       "      <td>17684654</td>\n",
       "    </tr>\n",
       "  </tbody>\n",
       "</table>\n",
       "</div>"
      ],
      "text/plain": [
       "      count\n",
       "0  17684654"
      ]
     },
     "execution_count": 15,
     "metadata": {},
     "output_type": "execute_result"
    }
   ],
   "source": [
    "number_lines"
   ]
  },
  {
   "cell_type": "code",
   "execution_count": null,
   "id": "allied-benchmark",
   "metadata": {},
   "outputs": [],
   "source": [
    "connection = psycopg2.connect(config)\n",
    "\n",
    "cursor = connection.cursor()\n",
    "\n",
    "sql = '''\n",
    "        SELECT\n",
    "            t.timestamp,\n",
    "            t.meter,\n",
    "            t.meter_reading\n",
    "        FROM\n",
    "            weather_train as w\n",
    "        INNER JOIN building_metadata as bm\n",
    "            ON (bm.site_id = w.site_id)\n",
    "        INNER JOIN train as t\n",
    "            ON (t.timestamp = w.timestamp) AND (t.building_id = bm.building_id)\n",
    "        WHERE\n",
    "                         w.timestamp IS NOT NULL \n",
    "             AND w.air_temperature IS NOT NULL \n",
    "             AND w.dew_temperature IS NOT NULL\n",
    "             AND w.sea_level_pressure IS NOT NULL \n",
    "             AND w.wind_direction IS NOT NULL \n",
    "             AND w.wind_speed IS NOT NULL\n",
    "       '''\n",
    "\n",
    "number_lines = pd.read_sql_query(sql,connection) \n",
    "\n",
    "if (connection):\n",
    "        cursor.close()\n",
    "        connection.close()\n",
    "        print(\"PostgreSQL connection is closed\")"
   ]
  },
  {
   "cell_type": "code",
   "execution_count": 6,
   "id": "younger-machinery",
   "metadata": {},
   "outputs": [],
   "source": [
    "# Check memory usage"
   ]
  },
  {
   "cell_type": "code",
   "execution_count": 7,
   "id": "double-playing",
   "metadata": {},
   "outputs": [],
   "source": [
    "# Model Parameters"
   ]
  },
  {
   "cell_type": "code",
   "execution_count": null,
   "id": "identical-average",
   "metadata": {},
   "outputs": [],
   "source": [
    "#Save model"
   ]
  }
 ],
 "metadata": {
  "kernelspec": {
   "display_name": "Python 3",
   "language": "python",
   "name": "python3"
  },
  "language_info": {
   "codemirror_mode": {
    "name": "ipython",
    "version": 3
   },
   "file_extension": ".py",
   "mimetype": "text/x-python",
   "name": "python",
   "nbconvert_exporter": "python",
   "pygments_lexer": "ipython3",
   "version": "3.8.5"
  }
 },
 "nbformat": 4,
 "nbformat_minor": 5
}
