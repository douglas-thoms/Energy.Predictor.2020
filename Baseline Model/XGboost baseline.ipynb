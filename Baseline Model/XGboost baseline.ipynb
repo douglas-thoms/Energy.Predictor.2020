{
 "cells": [
  {
   "cell_type": "markdown",
   "id": "intensive-inclusion",
   "metadata": {},
   "source": [
    "# Overview\n",
    "\n",
    "- this is a baseline model to determine immediate performance\n",
    "- will use gradient boost modelling using package XGboost\n",
    "- no data cleaning feature engineering to be used"
   ]
  },
  {
   "cell_type": "code",
   "execution_count": 1,
   "id": "alternate-henry",
   "metadata": {},
   "outputs": [],
   "source": [
    "# General Imports\n",
    "\n",
    "import numpy as np\n",
    "import pandas as pd\n",
    "import pickle\n",
    "\n",
    "import os, gc, sys, warnings, random, psycopg2"
   ]
  },
  {
   "cell_type": "code",
   "execution_count": 2,
   "id": "empty-wallace",
   "metadata": {},
   "outputs": [],
   "source": [
    "# Functions\n",
    "\n",
    "def seed_everything(seed=0):\n",
    "    random.seed(seed)\n",
    "    np.random.seed(seed)"
   ]
  },
  {
   "cell_type": "code",
   "execution_count": 3,
   "id": "weekly-society",
   "metadata": {},
   "outputs": [],
   "source": [
    "SEED = 42\n",
    "LOCAL_TEST = False\n",
    "seed_everything(SEED)\n",
    "TARGET = 'meter_reading'"
   ]
  },
  {
   "cell_type": "code",
   "execution_count": 4,
   "id": "junior-ecology",
   "metadata": {},
   "outputs": [],
   "source": [
    "# open pickle files\n",
    "\n",
    "train_df = pd.read_pickle('train_df.pkl')\n",
    "test_df = pd.read_pickle('test_df.pkl')\n",
    "submission = pd.read_pickle('submission.pkl')"
   ]
  },
  {
   "cell_type": "code",
   "execution_count": 5,
   "id": "viral-arrest",
   "metadata": {},
   "outputs": [
    {
     "name": "stdout",
     "output_type": "stream",
     "text": [
      "<class 'pandas.core.frame.DataFrame'>\n",
      "RangeIndex: 20216100 entries, 0 to 20216099\n",
      "Data columns (total 23 columns):\n",
      " #   Column              Dtype         \n",
      "---  ------              -----         \n",
      " 0   building_id         int16         \n",
      " 1   site_id             int8          \n",
      " 2   meter               int8          \n",
      " 3   meter_reading       float64       \n",
      " 4   timestamp           datetime64[ns]\n",
      " 5   primary_use         int8          \n",
      " 6   square_feet         int32         \n",
      " 7   year_built          int8          \n",
      " 8   floor_count         int8          \n",
      " 9   air_temperature     float64       \n",
      " 10  cloud_coverage      float16       \n",
      " 11  dew_temperature     float64       \n",
      " 12  precip_depth_1_hr   float16       \n",
      " 13  sea_level_pressure  float64       \n",
      " 14  wind_direction      float16       \n",
      " 15  wind_speed          float64       \n",
      " 16  DT_month            int8          \n",
      " 17  DT_week_y           int8          \n",
      " 18  DT_day_y            int8          \n",
      " 19  DT_hour             int8          \n",
      " 20  DT_day_w            int8          \n",
      " 21  DT_day_m            int8          \n",
      " 22  DT_week_m           int8          \n",
      "dtypes: datetime64[ns](1), float16(3), float64(5), int16(1), int32(1), int8(12)\n",
      "memory usage: 1.4 GB\n",
      "Main: ['building_id', 'site_id', 'meter', 'meter_reading', 'timestamp', 'primary_use', 'square_feet', 'year_built', 'floor_count', 'air_temperature', 'cloud_coverage', 'dew_temperature', 'precip_depth_1_hr', 'sea_level_pressure', 'wind_direction', 'wind_speed', 'DT_month', 'DT_week_y', 'DT_day_y', 'DT_hour', 'DT_day_w', 'DT_day_m', 'DT_week_m'] None\n",
      "####################\n",
      "<class 'pandas.core.frame.DataFrame'>\n",
      "RangeIndex: 41697600 entries, 0 to 41697599\n",
      "Data columns (total 23 columns):\n",
      " #   Column              Dtype         \n",
      "---  ------              -----         \n",
      " 0   row_id              int32         \n",
      " 1   building_id         int16         \n",
      " 2   site_id             int8          \n",
      " 3   meter               int8          \n",
      " 4   timestamp           datetime64[ns]\n",
      " 5   primary_use         int8          \n",
      " 6   square_feet         int32         \n",
      " 7   year_built          int8          \n",
      " 8   floor_count         int8          \n",
      " 9   air_temperature     float64       \n",
      " 10  cloud_coverage      float16       \n",
      " 11  dew_temperature     float64       \n",
      " 12  precip_depth_1_hr   float16       \n",
      " 13  sea_level_pressure  float64       \n",
      " 14  wind_direction      float16       \n",
      " 15  wind_speed          float64       \n",
      " 16  DT_month            int8          \n",
      " 17  DT_week_y           int8          \n",
      " 18  DT_day_y            int8          \n",
      " 19  DT_hour             int8          \n",
      " 20  DT_day_w            int8          \n",
      " 21  DT_day_m            int8          \n",
      " 22  DT_week_m           int8          \n",
      "dtypes: datetime64[ns](1), float16(3), float64(4), int16(1), int32(2), int8(12)\n",
      "memory usage: 2.6 GB\n",
      "Main: ['row_id', 'building_id', 'site_id', 'meter', 'timestamp', 'primary_use', 'square_feet', 'year_built', 'floor_count', 'air_temperature', 'cloud_coverage', 'dew_temperature', 'precip_depth_1_hr', 'sea_level_pressure', 'wind_direction', 'wind_speed', 'DT_month', 'DT_week_y', 'DT_day_y', 'DT_hour', 'DT_day_w', 'DT_day_m', 'DT_week_m'] None\n"
     ]
    }
   ],
   "source": [
    "#data check\n",
    "print(\"Main:\",list(train_df),train_df.info())\n",
    "print(\"#\" * 20)\n",
    "print(\"Main:\",list(test_df),test_df.info())"
   ]
  },
  {
   "cell_type": "code",
   "execution_count": 6,
   "id": "younger-machinery",
   "metadata": {},
   "outputs": [
    {
     "data": {
      "text/plain": [
       "True"
      ]
     },
     "execution_count": 6,
     "metadata": {},
     "output_type": "execute_result"
    }
   ],
   "source": [
    "train_df.isnull().values.any()"
   ]
  },
  {
   "cell_type": "code",
   "execution_count": 7,
   "id": "collective-posting",
   "metadata": {},
   "outputs": [
    {
     "data": {
      "text/plain": [
       "15595579"
      ]
     },
     "execution_count": 7,
     "metadata": {},
     "output_type": "execute_result"
    }
   ],
   "source": [
    "train_df.isnull().sum().sum()"
   ]
  },
  {
   "cell_type": "code",
   "execution_count": 8,
   "id": "precise-shannon",
   "metadata": {},
   "outputs": [
    {
     "name": "stdout",
     "output_type": "stream",
     "text": [
      "building_id 0\n",
      "site_id 0\n",
      "meter 0\n",
      "meter_reading 0\n",
      "timestamp 0\n",
      "primary_use 0\n",
      "square_feet 0\n",
      "year_built 0\n",
      "floor_count 0\n",
      "air_temperature 96658\n",
      "cloud_coverage 8825365\n",
      "dew_temperature 100140\n",
      "precip_depth_1_hr 3749023\n",
      "sea_level_pressure 1231669\n",
      "wind_direction 1449048\n",
      "wind_speed 143676\n",
      "DT_month 0\n",
      "DT_week_y 0\n",
      "DT_day_y 0\n",
      "DT_hour 0\n",
      "DT_day_w 0\n",
      "DT_day_m 0\n",
      "DT_week_m 0\n"
     ]
    }
   ],
   "source": [
    "#count how many na's in each column\n",
    "\n",
    "for col in train_df.columns:\n",
    "    a = col\n",
    "    b = str(train_df[col].isnull().sum().sum())\n",
    "    print(a + \" \" + b) "
   ]
  },
  {
   "cell_type": "code",
   "execution_count": 9,
   "id": "fourth-albany",
   "metadata": {},
   "outputs": [],
   "source": [
    "train_df.dropna(axis = 0, how = 'any', inplace = True)"
   ]
  },
  {
   "cell_type": "code",
   "execution_count": 10,
   "id": "partial-picnic",
   "metadata": {},
   "outputs": [
    {
     "name": "stdout",
     "output_type": "stream",
     "text": [
      "<class 'pandas.core.frame.DataFrame'>\n",
      "Int64Index: 8955945 entries, 2080 to 20214784\n",
      "Data columns (total 23 columns):\n",
      " #   Column              Dtype         \n",
      "---  ------              -----         \n",
      " 0   building_id         int16         \n",
      " 1   site_id             int8          \n",
      " 2   meter               int8          \n",
      " 3   meter_reading       float64       \n",
      " 4   timestamp           datetime64[ns]\n",
      " 5   primary_use         int8          \n",
      " 6   square_feet         int32         \n",
      " 7   year_built          int8          \n",
      " 8   floor_count         int8          \n",
      " 9   air_temperature     float64       \n",
      " 10  cloud_coverage      float16       \n",
      " 11  dew_temperature     float64       \n",
      " 12  precip_depth_1_hr   float16       \n",
      " 13  sea_level_pressure  float64       \n",
      " 14  wind_direction      float16       \n",
      " 15  wind_speed          float64       \n",
      " 16  DT_month            int8          \n",
      " 17  DT_week_y           int8          \n",
      " 18  DT_day_y            int8          \n",
      " 19  DT_hour             int8          \n",
      " 20  DT_day_w            int8          \n",
      " 21  DT_day_m            int8          \n",
      " 22  DT_week_m           int8          \n",
      "dtypes: datetime64[ns](1), float16(3), float64(5), int16(1), int32(1), int8(12)\n",
      "memory usage: 683.3 MB\n",
      "Main: ['building_id', 'site_id', 'meter', 'meter_reading', 'timestamp', 'primary_use', 'square_feet', 'year_built', 'floor_count', 'air_temperature', 'cloud_coverage', 'dew_temperature', 'precip_depth_1_hr', 'sea_level_pressure', 'wind_direction', 'wind_speed', 'DT_month', 'DT_week_y', 'DT_day_y', 'DT_hour', 'DT_day_w', 'DT_day_m', 'DT_week_m'] None\n"
     ]
    }
   ],
   "source": [
    "#check data\n",
    "print(\"Main:\",list(train_df),train_df.info())"
   ]
  },
  {
   "cell_type": "code",
   "execution_count": 11,
   "id": "accomplished-tuning",
   "metadata": {},
   "outputs": [
    {
     "name": "stdout",
     "output_type": "stream",
     "text": [
      "building_id 0\n",
      "site_id 0\n",
      "meter 0\n",
      "meter_reading 0\n",
      "timestamp 0\n",
      "primary_use 0\n",
      "square_feet 0\n",
      "year_built 0\n",
      "floor_count 0\n",
      "air_temperature 0\n",
      "cloud_coverage 0\n",
      "dew_temperature 0\n",
      "precip_depth_1_hr 0\n",
      "sea_level_pressure 0\n",
      "wind_direction 0\n",
      "wind_speed 0\n",
      "DT_month 0\n",
      "DT_week_y 0\n",
      "DT_day_y 0\n",
      "DT_hour 0\n",
      "DT_day_w 0\n",
      "DT_day_m 0\n",
      "DT_week_m 0\n"
     ]
    }
   ],
   "source": [
    "#count how many na's in each column\n",
    "\n",
    "for col in train_df.columns:\n",
    "    a = col\n",
    "    b = str(train_df[col].isnull().sum().sum())\n",
    "    print(a + \" \" + b) "
   ]
  },
  {
   "cell_type": "code",
   "execution_count": 12,
   "id": "challenging-scenario",
   "metadata": {},
   "outputs": [],
   "source": [
    "#prepare training data\n",
    "import xgboost as xgb\n",
    "\n",
    "#choose columns to remove\n",
    "remove_columns = [TARGET,'timestamp']\n",
    "#get feature columns using list comprehension to remove columns - list(train_df)\n",
    "feature_columns = [col for col in list(train_df) if col not in remove_columns]\n",
    "\n",
    "#use np.log1 for distribution\n",
    "#label is target\n",
    "\n",
    "tr_data = xgb.DMatrix(np.log1p(train_df[feature_columns]),label=np.log1p(train_df[TARGET]))\n",
    "#tr_data = xgb.DMatrix(train_df[feature_columns],label=train_df[TARGET])"
   ]
  },
  {
   "cell_type": "code",
   "execution_count": 13,
   "id": "double-playing",
   "metadata": {},
   "outputs": [],
   "source": [
    "# Model Parameters\n",
    "\n",
    "\n",
    "xgb_param = {'max_depth': 25, \n",
    "         'eta': 0.3, \n",
    "         'objective': 'reg:squaredlogerror'} \n",
    "    \n",
    "bst = xgb.train(xgb_param,tr_data,10)"
   ]
  },
  {
   "cell_type": "code",
   "execution_count": 14,
   "id": "promotional-generator",
   "metadata": {},
   "outputs": [],
   "source": [
    "tst_data = xgb.DMatrix(np.log1p(train_df[feature_columns]))"
   ]
  },
  {
   "cell_type": "code",
   "execution_count": 15,
   "id": "endangered-length",
   "metadata": {},
   "outputs": [],
   "source": [
    "predictions = list(np.expm1(bst.predict(tst_data)))"
   ]
  },
  {
   "cell_type": "code",
   "execution_count": 16,
   "id": "wrong-mambo",
   "metadata": {},
   "outputs": [],
   "source": [
    "results = pd.DataFrame(data = {'actual':train_df[TARGET],'predictions':predictions})"
   ]
  },
  {
   "cell_type": "code",
   "execution_count": 17,
   "id": "expensive-possible",
   "metadata": {},
   "outputs": [
    {
     "data": {
      "text/html": [
       "<div>\n",
       "<style scoped>\n",
       "    .dataframe tbody tr th:only-of-type {\n",
       "        vertical-align: middle;\n",
       "    }\n",
       "\n",
       "    .dataframe tbody tr th {\n",
       "        vertical-align: top;\n",
       "    }\n",
       "\n",
       "    .dataframe thead th {\n",
       "        text-align: right;\n",
       "    }\n",
       "</style>\n",
       "<table border=\"1\" class=\"dataframe\">\n",
       "  <thead>\n",
       "    <tr style=\"text-align: right;\">\n",
       "      <th></th>\n",
       "      <th>actual</th>\n",
       "      <th>predictions</th>\n",
       "    </tr>\n",
       "  </thead>\n",
       "  <tbody>\n",
       "    <tr>\n",
       "      <th>2080</th>\n",
       "      <td>8.5000</td>\n",
       "      <td>3.835476</td>\n",
       "    </tr>\n",
       "    <tr>\n",
       "      <th>2081</th>\n",
       "      <td>0.5210</td>\n",
       "      <td>0.532797</td>\n",
       "    </tr>\n",
       "    <tr>\n",
       "      <th>2082</th>\n",
       "      <td>243.5000</td>\n",
       "      <td>59.217979</td>\n",
       "    </tr>\n",
       "    <tr>\n",
       "      <th>2083</th>\n",
       "      <td>79.4880</td>\n",
       "      <td>51.994385</td>\n",
       "    </tr>\n",
       "    <tr>\n",
       "      <th>2084</th>\n",
       "      <td>16.7500</td>\n",
       "      <td>15.047709</td>\n",
       "    </tr>\n",
       "    <tr>\n",
       "      <th>...</th>\n",
       "      <td>...</td>\n",
       "      <td>...</td>\n",
       "    </tr>\n",
       "    <tr>\n",
       "      <th>2264</th>\n",
       "      <td>324.2260</td>\n",
       "      <td>25.427666</td>\n",
       "    </tr>\n",
       "    <tr>\n",
       "      <th>2265</th>\n",
       "      <td>43.2803</td>\n",
       "      <td>5.533868</td>\n",
       "    </tr>\n",
       "    <tr>\n",
       "      <th>2266</th>\n",
       "      <td>13.1000</td>\n",
       "      <td>17.292320</td>\n",
       "    </tr>\n",
       "    <tr>\n",
       "      <th>2267</th>\n",
       "      <td>20.9333</td>\n",
       "      <td>13.752945</td>\n",
       "    </tr>\n",
       "    <tr>\n",
       "      <th>2268</th>\n",
       "      <td>959.6090</td>\n",
       "      <td>18.521965</td>\n",
       "    </tr>\n",
       "  </tbody>\n",
       "</table>\n",
       "<p>100 rows × 2 columns</p>\n",
       "</div>"
      ],
      "text/plain": [
       "        actual  predictions\n",
       "2080    8.5000     3.835476\n",
       "2081    0.5210     0.532797\n",
       "2082  243.5000    59.217979\n",
       "2083   79.4880    51.994385\n",
       "2084   16.7500    15.047709\n",
       "...        ...          ...\n",
       "2264  324.2260    25.427666\n",
       "2265   43.2803     5.533868\n",
       "2266   13.1000    17.292320\n",
       "2267   20.9333    13.752945\n",
       "2268  959.6090    18.521965\n",
       "\n",
       "[100 rows x 2 columns]"
      ]
     },
     "execution_count": 17,
     "metadata": {},
     "output_type": "execute_result"
    }
   ],
   "source": [
    "results.head(100)"
   ]
  },
  {
   "cell_type": "markdown",
   "id": "loaded-egypt",
   "metadata": {},
   "source": [
    "https://www.kaggle.com/volker48/xgboost-custom-rmsle-eval-function"
   ]
  },
  {
   "cell_type": "code",
   "execution_count": 18,
   "id": "polished-columbia",
   "metadata": {},
   "outputs": [
    {
     "name": "stdout",
     "output_type": "stream",
     "text": [
      "[0]\ttrain-rmsle:1.11149+0.00004\ttest-rmsle:1.11257+0.00012\n",
      "[1]\ttrain-rmsle:0.97633+0.00006\ttest-rmsle:0.97860+0.00013\n",
      "[2]\ttrain-rmsle:0.85030+0.00007\ttest-rmsle:0.85378+0.00013\n",
      "[3]\ttrain-rmsle:nan+nan\ttest-rmsle:nan+nan\n",
      "[4]\ttrain-rmsle:nan+nan\ttest-rmsle:nan+nan\n",
      "[5]\ttrain-rmsle:nan+nan\ttest-rmsle:nan+nan\n",
      "[6]\ttrain-rmsle:nan+nan\ttest-rmsle:nan+nan\n",
      "[7]\ttrain-rmsle:nan+nan\ttest-rmsle:nan+nan\n",
      "[8]\ttrain-rmsle:nan+nan\ttest-rmsle:nan+nan\n",
      "[9]\ttrain-rmsle:nan+nan\ttest-rmsle:nan+nan\n"
     ]
    },
    {
     "data": {
      "text/html": [
       "<div>\n",
       "<style scoped>\n",
       "    .dataframe tbody tr th:only-of-type {\n",
       "        vertical-align: middle;\n",
       "    }\n",
       "\n",
       "    .dataframe tbody tr th {\n",
       "        vertical-align: top;\n",
       "    }\n",
       "\n",
       "    .dataframe thead th {\n",
       "        text-align: right;\n",
       "    }\n",
       "</style>\n",
       "<table border=\"1\" class=\"dataframe\">\n",
       "  <thead>\n",
       "    <tr style=\"text-align: right;\">\n",
       "      <th></th>\n",
       "      <th>train-rmsle-mean</th>\n",
       "      <th>train-rmsle-std</th>\n",
       "      <th>test-rmsle-mean</th>\n",
       "      <th>test-rmsle-std</th>\n",
       "    </tr>\n",
       "  </thead>\n",
       "  <tbody>\n",
       "    <tr>\n",
       "      <th>0</th>\n",
       "      <td>1.111489</td>\n",
       "      <td>0.000042</td>\n",
       "      <td>1.112566</td>\n",
       "      <td>0.000123</td>\n",
       "    </tr>\n",
       "    <tr>\n",
       "      <th>1</th>\n",
       "      <td>0.976332</td>\n",
       "      <td>0.000061</td>\n",
       "      <td>0.978602</td>\n",
       "      <td>0.000129</td>\n",
       "    </tr>\n",
       "    <tr>\n",
       "      <th>2</th>\n",
       "      <td>0.850302</td>\n",
       "      <td>0.000069</td>\n",
       "      <td>0.853784</td>\n",
       "      <td>0.000135</td>\n",
       "    </tr>\n",
       "    <tr>\n",
       "      <th>3</th>\n",
       "      <td>NaN</td>\n",
       "      <td>NaN</td>\n",
       "      <td>NaN</td>\n",
       "      <td>NaN</td>\n",
       "    </tr>\n",
       "    <tr>\n",
       "      <th>4</th>\n",
       "      <td>NaN</td>\n",
       "      <td>NaN</td>\n",
       "      <td>NaN</td>\n",
       "      <td>NaN</td>\n",
       "    </tr>\n",
       "    <tr>\n",
       "      <th>5</th>\n",
       "      <td>NaN</td>\n",
       "      <td>NaN</td>\n",
       "      <td>NaN</td>\n",
       "      <td>NaN</td>\n",
       "    </tr>\n",
       "    <tr>\n",
       "      <th>6</th>\n",
       "      <td>NaN</td>\n",
       "      <td>NaN</td>\n",
       "      <td>NaN</td>\n",
       "      <td>NaN</td>\n",
       "    </tr>\n",
       "    <tr>\n",
       "      <th>7</th>\n",
       "      <td>NaN</td>\n",
       "      <td>NaN</td>\n",
       "      <td>NaN</td>\n",
       "      <td>NaN</td>\n",
       "    </tr>\n",
       "    <tr>\n",
       "      <th>8</th>\n",
       "      <td>NaN</td>\n",
       "      <td>NaN</td>\n",
       "      <td>NaN</td>\n",
       "      <td>NaN</td>\n",
       "    </tr>\n",
       "    <tr>\n",
       "      <th>9</th>\n",
       "      <td>NaN</td>\n",
       "      <td>NaN</td>\n",
       "      <td>NaN</td>\n",
       "      <td>NaN</td>\n",
       "    </tr>\n",
       "  </tbody>\n",
       "</table>\n",
       "</div>"
      ],
      "text/plain": [
       "   train-rmsle-mean  train-rmsle-std  test-rmsle-mean  test-rmsle-std\n",
       "0          1.111489         0.000042         1.112566        0.000123\n",
       "1          0.976332         0.000061         0.978602        0.000129\n",
       "2          0.850302         0.000069         0.853784        0.000135\n",
       "3               NaN              NaN              NaN             NaN\n",
       "4               NaN              NaN              NaN             NaN\n",
       "5               NaN              NaN              NaN             NaN\n",
       "6               NaN              NaN              NaN             NaN\n",
       "7               NaN              NaN              NaN             NaN\n",
       "8               NaN              NaN              NaN             NaN\n",
       "9               NaN              NaN              NaN             NaN"
      ]
     },
     "execution_count": 18,
     "metadata": {},
     "output_type": "execute_result"
    }
   ],
   "source": [
    "xgb.cv(xgb_param,tr_data,num_boost_round=10,nfold=5,verbose_eval=True)"
   ]
  },
  {
   "cell_type": "code",
   "execution_count": null,
   "id": "derived-classroom",
   "metadata": {},
   "outputs": [],
   "source": []
  }
 ],
 "metadata": {
  "kernelspec": {
   "display_name": "Python 3",
   "language": "python",
   "name": "python3"
  },
  "language_info": {
   "codemirror_mode": {
    "name": "ipython",
    "version": 3
   },
   "file_extension": ".py",
   "mimetype": "text/x-python",
   "name": "python",
   "nbconvert_exporter": "python",
   "pygments_lexer": "ipython3",
   "version": "3.8.5"
  }
 },
 "nbformat": 4,
 "nbformat_minor": 5
}
