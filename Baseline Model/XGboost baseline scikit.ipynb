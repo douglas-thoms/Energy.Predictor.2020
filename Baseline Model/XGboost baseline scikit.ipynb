{
 "cells": [
  {
   "cell_type": "markdown",
   "id": "intensive-inclusion",
   "metadata": {},
   "source": [
    "# Overview\n",
    "\n",
    "- this is a baseline model to determine immediate performance\n",
    "- will use gradient boost modelling using package XGboost\n",
    "- no data cleaning feature engineering to be used"
   ]
  },
  {
   "cell_type": "code",
   "execution_count": 1,
   "id": "alternate-henry",
   "metadata": {},
   "outputs": [],
   "source": [
    "# General Imports\n",
    "\n",
    "import numpy as np\n",
    "import pandas as pd\n",
    "import pickle\n",
    "\n",
    "import os, gc, sys, warnings, random, psycopg2"
   ]
  },
  {
   "cell_type": "code",
   "execution_count": 2,
   "id": "empty-wallace",
   "metadata": {},
   "outputs": [],
   "source": [
    "# Functions\n",
    "\n",
    "def seed_everything(seed=0):\n",
    "    random.seed(seed)\n",
    "    np.random.seed(seed)"
   ]
  },
  {
   "cell_type": "code",
   "execution_count": 3,
   "id": "weekly-society",
   "metadata": {},
   "outputs": [],
   "source": [
    "SEED = 42\n",
    "LOCAL_TEST = False\n",
    "seed_everything(SEED)\n",
    "TARGET = 'meter_reading'"
   ]
  },
  {
   "cell_type": "code",
   "execution_count": 4,
   "id": "junior-ecology",
   "metadata": {},
   "outputs": [],
   "source": [
    "# open pickle files\n",
    "\n",
    "train_df = pd.read_pickle('train_df.pkl')\n",
    "test_df = pd.read_pickle('test_df.pkl')\n",
    "submission = pd.read_pickle('submission.pkl')"
   ]
  },
  {
   "cell_type": "code",
   "execution_count": 5,
   "id": "viral-arrest",
   "metadata": {},
   "outputs": [
    {
     "name": "stdout",
     "output_type": "stream",
     "text": [
      "<class 'pandas.core.frame.DataFrame'>\n",
      "RangeIndex: 20216100 entries, 0 to 20216099\n",
      "Data columns (total 23 columns):\n",
      " #   Column              Dtype         \n",
      "---  ------              -----         \n",
      " 0   building_id         int16         \n",
      " 1   site_id             int8          \n",
      " 2   meter               int8          \n",
      " 3   meter_reading       float64       \n",
      " 4   timestamp           datetime64[ns]\n",
      " 5   primary_use         int8          \n",
      " 6   square_feet         int32         \n",
      " 7   year_built          int8          \n",
      " 8   floor_count         int8          \n",
      " 9   air_temperature     float64       \n",
      " 10  cloud_coverage      float16       \n",
      " 11  dew_temperature     float64       \n",
      " 12  precip_depth_1_hr   float16       \n",
      " 13  sea_level_pressure  float64       \n",
      " 14  wind_direction      float16       \n",
      " 15  wind_speed          float64       \n",
      " 16  DT_month            int8          \n",
      " 17  DT_week_y           int8          \n",
      " 18  DT_day_y            int8          \n",
      " 19  DT_hour             int8          \n",
      " 20  DT_day_w            int8          \n",
      " 21  DT_day_m            int8          \n",
      " 22  DT_week_m           int8          \n",
      "dtypes: datetime64[ns](1), float16(3), float64(5), int16(1), int32(1), int8(12)\n",
      "memory usage: 1.4 GB\n",
      "Main: ['building_id', 'site_id', 'meter', 'meter_reading', 'timestamp', 'primary_use', 'square_feet', 'year_built', 'floor_count', 'air_temperature', 'cloud_coverage', 'dew_temperature', 'precip_depth_1_hr', 'sea_level_pressure', 'wind_direction', 'wind_speed', 'DT_month', 'DT_week_y', 'DT_day_y', 'DT_hour', 'DT_day_w', 'DT_day_m', 'DT_week_m'] None\n",
      "####################\n",
      "<class 'pandas.core.frame.DataFrame'>\n",
      "RangeIndex: 41697600 entries, 0 to 41697599\n",
      "Data columns (total 23 columns):\n",
      " #   Column              Dtype         \n",
      "---  ------              -----         \n",
      " 0   row_id              int32         \n",
      " 1   building_id         int16         \n",
      " 2   site_id             int8          \n",
      " 3   meter               int8          \n",
      " 4   timestamp           datetime64[ns]\n",
      " 5   primary_use         int8          \n",
      " 6   square_feet         int32         \n",
      " 7   year_built          int8          \n",
      " 8   floor_count         int8          \n",
      " 9   air_temperature     float64       \n",
      " 10  cloud_coverage      float16       \n",
      " 11  dew_temperature     float64       \n",
      " 12  precip_depth_1_hr   float16       \n",
      " 13  sea_level_pressure  float64       \n",
      " 14  wind_direction      float16       \n",
      " 15  wind_speed          float64       \n",
      " 16  DT_month            int8          \n",
      " 17  DT_week_y           int8          \n",
      " 18  DT_day_y            int8          \n",
      " 19  DT_hour             int8          \n",
      " 20  DT_day_w            int8          \n",
      " 21  DT_day_m            int8          \n",
      " 22  DT_week_m           int8          \n",
      "dtypes: datetime64[ns](1), float16(3), float64(4), int16(1), int32(2), int8(12)\n",
      "memory usage: 2.6 GB\n",
      "Main: ['row_id', 'building_id', 'site_id', 'meter', 'timestamp', 'primary_use', 'square_feet', 'year_built', 'floor_count', 'air_temperature', 'cloud_coverage', 'dew_temperature', 'precip_depth_1_hr', 'sea_level_pressure', 'wind_direction', 'wind_speed', 'DT_month', 'DT_week_y', 'DT_day_y', 'DT_hour', 'DT_day_w', 'DT_day_m', 'DT_week_m'] None\n"
     ]
    }
   ],
   "source": [
    "#data check#data check\n",
    "print(\"Main:\",list(train_df),train_df.info())\n",
    "print(\"#\" * 20)\n",
    "print(\"Main:\",list(test_df),test_df.info())"
   ]
  },
  {
   "cell_type": "code",
   "execution_count": 6,
   "id": "younger-machinery",
   "metadata": {},
   "outputs": [],
   "source": [
    "# Check memory usage"
   ]
  },
  {
   "cell_type": "code",
   "execution_count": 9,
   "id": "challenging-scenario",
   "metadata": {},
   "outputs": [],
   "source": [
    "#prepare training data\n",
    "from xgboost import XGBRegressor\n",
    "\n",
    "#choose columns to remove\n",
    "remove_columns = [TARGET,'timestamp']\n",
    "#get feature columns using list comprehension to remove columns - list(train_df)\n",
    "feature_columns = [col for col in list(train_df) if col not in remove_columns]\n",
    "\n",
    "#label is target\n",
    "\n",
    "x_data = train_df[feature_columns]\n",
    "y_data = train_df[TARGET]"
   ]
  },
  {
   "cell_type": "code",
   "execution_count": 10,
   "id": "double-playing",
   "metadata": {},
   "outputs": [
    {
     "data": {
      "text/plain": [
       "XGBRegressor(base_score=0.5, booster='gbtree', colsample_bylevel=1,\n",
       "             colsample_bynode=1, colsample_bytree=1, eta=0.1, gamma=0,\n",
       "             gpu_id=-1, importance_type='gain', interaction_constraints='',\n",
       "             learning_rate=0.100000001, max_delta_step=0, max_depth=6,\n",
       "             min_child_weight=1, missing=nan, monotone_constraints='()',\n",
       "             n_estimators=100, n_jobs=16, num_parallel_tree=1, random_state=0,\n",
       "             reg_alpha=0, reg_lambda=1, scale_pos_weight=1, subsample=1,\n",
       "             tree_method='approx', validate_parameters=1, verbosity=1)"
      ]
     },
     "execution_count": 10,
     "metadata": {},
     "output_type": "execute_result"
    }
   ],
   "source": [
    "# Model Parameters\n",
    "\n",
    "model = XGBRegressor(eta=0.1,verbosity=1)\n",
    "model.fit(x_data,y_data)"
   ]
  },
  {
   "cell_type": "code",
   "execution_count": 11,
   "id": "promotional-generator",
   "metadata": {},
   "outputs": [],
   "source": [
    "y_pred=model.predict(x_data)"
   ]
  },
  {
   "cell_type": "code",
   "execution_count": 13,
   "id": "endangered-length",
   "metadata": {},
   "outputs": [
    {
     "data": {
      "text/plain": [
       "array([1074.6262  ,   85.194305,   70.83401 , ...,   29.856537,\n",
       "         -8.04701 ,  -25.678986], dtype=float32)"
      ]
     },
     "execution_count": 13,
     "metadata": {},
     "output_type": "execute_result"
    }
   ],
   "source": [
    "y_pred"
   ]
  },
  {
   "cell_type": "code",
   "execution_count": 15,
   "id": "expensive-possible",
   "metadata": {},
   "outputs": [],
   "source": [
    "results = pd.DataFrame(data = {'actual':y_data,'predictions':y_pred})"
   ]
  },
  {
   "cell_type": "code",
   "execution_count": 16,
   "id": "mineral-joining",
   "metadata": {},
   "outputs": [
    {
     "data": {
      "text/html": [
       "<div>\n",
       "<style scoped>\n",
       "    .dataframe tbody tr th:only-of-type {\n",
       "        vertical-align: middle;\n",
       "    }\n",
       "\n",
       "    .dataframe tbody tr th {\n",
       "        vertical-align: top;\n",
       "    }\n",
       "\n",
       "    .dataframe thead th {\n",
       "        text-align: right;\n",
       "    }\n",
       "</style>\n",
       "<table border=\"1\" class=\"dataframe\">\n",
       "  <thead>\n",
       "    <tr style=\"text-align: right;\">\n",
       "      <th></th>\n",
       "      <th>actual</th>\n",
       "      <th>predictions</th>\n",
       "    </tr>\n",
       "  </thead>\n",
       "  <tbody>\n",
       "    <tr>\n",
       "      <th>0</th>\n",
       "      <td>11.1132</td>\n",
       "      <td>1074.626221</td>\n",
       "    </tr>\n",
       "    <tr>\n",
       "      <th>1</th>\n",
       "      <td>0.0000</td>\n",
       "      <td>85.194305</td>\n",
       "    </tr>\n",
       "    <tr>\n",
       "      <th>2</th>\n",
       "      <td>0.0000</td>\n",
       "      <td>70.834007</td>\n",
       "    </tr>\n",
       "    <tr>\n",
       "      <th>3</th>\n",
       "      <td>0.0000</td>\n",
       "      <td>71.751976</td>\n",
       "    </tr>\n",
       "    <tr>\n",
       "      <th>4</th>\n",
       "      <td>0.0000</td>\n",
       "      <td>113.240677</td>\n",
       "    </tr>\n",
       "    <tr>\n",
       "      <th>...</th>\n",
       "      <td>...</td>\n",
       "      <td>...</td>\n",
       "    </tr>\n",
       "    <tr>\n",
       "      <th>20216095</th>\n",
       "      <td>76.0000</td>\n",
       "      <td>93.909164</td>\n",
       "    </tr>\n",
       "    <tr>\n",
       "      <th>20216096</th>\n",
       "      <td>182.9460</td>\n",
       "      <td>35.513374</td>\n",
       "    </tr>\n",
       "    <tr>\n",
       "      <th>20216097</th>\n",
       "      <td>88.4500</td>\n",
       "      <td>29.856537</td>\n",
       "    </tr>\n",
       "    <tr>\n",
       "      <th>20216098</th>\n",
       "      <td>16.0000</td>\n",
       "      <td>-8.047010</td>\n",
       "    </tr>\n",
       "    <tr>\n",
       "      <th>20216099</th>\n",
       "      <td>147.0000</td>\n",
       "      <td>-25.678986</td>\n",
       "    </tr>\n",
       "  </tbody>\n",
       "</table>\n",
       "<p>20216100 rows × 2 columns</p>\n",
       "</div>"
      ],
      "text/plain": [
       "            actual  predictions\n",
       "0          11.1132  1074.626221\n",
       "1           0.0000    85.194305\n",
       "2           0.0000    70.834007\n",
       "3           0.0000    71.751976\n",
       "4           0.0000   113.240677\n",
       "...            ...          ...\n",
       "20216095   76.0000    93.909164\n",
       "20216096  182.9460    35.513374\n",
       "20216097   88.4500    29.856537\n",
       "20216098   16.0000    -8.047010\n",
       "20216099  147.0000   -25.678986\n",
       "\n",
       "[20216100 rows x 2 columns]"
      ]
     },
     "execution_count": 16,
     "metadata": {},
     "output_type": "execute_result"
    }
   ],
   "source": [
    "results"
   ]
  },
  {
   "cell_type": "code",
   "execution_count": null,
   "id": "derived-classroom",
   "metadata": {},
   "outputs": [],
   "source": []
  }
 ],
 "metadata": {
  "kernelspec": {
   "display_name": "Python 3",
   "language": "python",
   "name": "python3"
  },
  "language_info": {
   "codemirror_mode": {
    "name": "ipython",
    "version": 3
   },
   "file_extension": ".py",
   "mimetype": "text/x-python",
   "name": "python",
   "nbconvert_exporter": "python",
   "pygments_lexer": "ipython3",
   "version": "3.8.5"
  }
 },
 "nbformat": 4,
 "nbformat_minor": 5
}
