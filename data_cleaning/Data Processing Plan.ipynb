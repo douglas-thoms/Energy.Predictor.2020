{
 "cells": [
  {
   "cell_type": "markdown",
   "metadata": {},
   "source": [
    "# Iteration 1\n",
    "\n",
    "## Missing Data\n",
    "- no imputation\n",
    "\n",
    "- remove categories with incompatibility under 90%\n",
    "\n",
    "- remove any data that has null values\n",
    "\n",
    "## Feature Processing\n",
    "\n",
    "- make wind direction a circular relationship - base on cosine\n",
    "\n",
    "## Outliers\n",
    "\n",
    "### Meter readings\n",
    "\n",
    "- remove unusually high or low values based on meter, facility\n",
    "- remove ones with weird profile"
   ]
  },
  {
   "cell_type": "code",
   "execution_count": null,
   "metadata": {},
   "outputs": [],
   "source": []
  }
 ],
 "metadata": {
  "kernelspec": {
   "display_name": "Python 3",
   "language": "python",
   "name": "python3"
  },
  "language_info": {
   "codemirror_mode": {
    "name": "ipython",
    "version": 3
   },
   "file_extension": ".py",
   "mimetype": "text/x-python",
   "name": "python",
   "nbconvert_exporter": "python",
   "pygments_lexer": "ipython3",
   "version": "3.8.5"
  }
 },
 "nbformat": 4,
 "nbformat_minor": 4
}
