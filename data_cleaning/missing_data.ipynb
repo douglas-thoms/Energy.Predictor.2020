{
 "cells": [
  {
   "cell_type": "code",
   "execution_count": 118,
   "metadata": {},
   "outputs": [],
   "source": [
    "import psycopg2\n",
    "from psycopg2 import Error\n",
    "\n",
    "import pandas as pd\n",
    "import numpy as np\n",
    "\n",
    "myfile = open(\"./../../../github.passwords/energy.predictor.2020.config\",\"rt\")\n",
    "config= myfile.read()"
   ]
  },
  {
   "cell_type": "code",
   "execution_count": 119,
   "metadata": {},
   "outputs": [],
   "source": [
    "connection = psycopg2.connect(config)\n",
    "\n",
    "cursor = connection.cursor()"
   ]
  },
  {
   "cell_type": "code",
   "execution_count": 120,
   "metadata": {},
   "outputs": [],
   "source": [
    "# Read PostgreSQL into a dataframe\n",
    "sql =''' SELECT \n",
    "         COUNT(site_id)/1.0/COUNT(*) AS site_id,\n",
    "         COUNT(building_id)/1.0/COUNT(*) AS building_id,\n",
    "         COUNT(primary_use)/1.0/COUNT(*) AS primary_use,\n",
    "         COUNT(square_feet)/1.0/COUNT(*) AS square_feet,\n",
    "         COUNT(year_built)/1.0/COUNT(*) AS year_built,\n",
    "         COUNT(floor_count)/1.0/COUNT(*) AS floor_count\n",
    "         FROM building_metadata;'''\n",
    "building_meta_data_available = pd.read_sql_query(sql,connection)"
   ]
  },
  {
   "cell_type": "code",
   "execution_count": 121,
   "metadata": {},
   "outputs": [],
   "source": [
    "# Read PostgreSQL into a dataframe\n",
    "sql =''' SELECT \n",
    "         COUNT(site_id)/1.0/COUNT(*) AS site_id,\n",
    "         COUNT(timestamp)/1.0/COUNT(*) AS timestamp,\n",
    "         COUNT(air_temperature)/1.0/COUNT(*) AS air_temperature,\n",
    "         COUNT(cloud_coverage)/1.0/COUNT(*) AS cloud_coverage,\n",
    "         COUNT(dew_temperature)/1.0/COUNT(*) AS dew_temperature,\n",
    "         COUNT(precip_depth_1_hr)/1.0/COUNT(*) AS precip_depth_1_hr,\n",
    "         COUNT(sea_level_pressure)/1.0/COUNT(*) AS sea_level_pressure,\n",
    "         COUNT(wind_direction)/1.0/COUNT(*) AS wind_direction,\n",
    "         COUNT(wind_speed)/1.0/COUNT(*) AS wind_speed\n",
    "         FROM weather_train;'''\n",
    "weather_train_available = pd.read_sql_query(sql,connection)"
   ]
  },
  {
   "cell_type": "code",
   "execution_count": 122,
   "metadata": {},
   "outputs": [
    {
     "name": "stdout",
     "output_type": "stream",
     "text": [
      "PostgreSQL connection is closed\n"
     ]
    }
   ],
   "source": [
    "if (connection):\n",
    "        cursor.close()\n",
    "        connection.close()\n",
    "        print(\"PostgreSQL connection is closed\")"
   ]
  },
  {
   "cell_type": "code",
   "execution_count": 123,
   "metadata": {},
   "outputs": [
    {
     "data": {
      "text/html": [
       "<div>\n",
       "<style scoped>\n",
       "    .dataframe tbody tr th:only-of-type {\n",
       "        vertical-align: middle;\n",
       "    }\n",
       "\n",
       "    .dataframe tbody tr th {\n",
       "        vertical-align: top;\n",
       "    }\n",
       "\n",
       "    .dataframe thead th {\n",
       "        text-align: right;\n",
       "    }\n",
       "</style>\n",
       "<table border=\"1\" class=\"dataframe\">\n",
       "  <thead>\n",
       "    <tr style=\"text-align: right;\">\n",
       "      <th></th>\n",
       "      <th>site_id</th>\n",
       "      <th>building_id</th>\n",
       "      <th>primary_use</th>\n",
       "      <th>square_feet</th>\n",
       "      <th>year_built</th>\n",
       "      <th>floor_count</th>\n",
       "    </tr>\n",
       "  </thead>\n",
       "  <tbody>\n",
       "    <tr>\n",
       "      <th>0</th>\n",
       "      <td>1.0</td>\n",
       "      <td>1.0</td>\n",
       "      <td>1.0</td>\n",
       "      <td>1.0</td>\n",
       "      <td>0.465839</td>\n",
       "      <td>0.244997</td>\n",
       "    </tr>\n",
       "  </tbody>\n",
       "</table>\n",
       "</div>"
      ],
      "text/plain": [
       "   site_id  building_id  primary_use  square_feet  year_built  floor_count\n",
       "0      1.0          1.0          1.0          1.0    0.465839     0.244997"
      ]
     },
     "execution_count": 123,
     "metadata": {},
     "output_type": "execute_result"
    }
   ],
   "source": [
    "building_meta_data_available"
   ]
  },
  {
   "cell_type": "code",
   "execution_count": 124,
   "metadata": {},
   "outputs": [
    {
     "data": {
      "text/html": [
       "<div>\n",
       "<style scoped>\n",
       "    .dataframe tbody tr th:only-of-type {\n",
       "        vertical-align: middle;\n",
       "    }\n",
       "\n",
       "    .dataframe tbody tr th {\n",
       "        vertical-align: top;\n",
       "    }\n",
       "\n",
       "    .dataframe thead th {\n",
       "        text-align: right;\n",
       "    }\n",
       "</style>\n",
       "<table border=\"1\" class=\"dataframe\">\n",
       "  <thead>\n",
       "    <tr style=\"text-align: right;\">\n",
       "      <th></th>\n",
       "      <th>site_id</th>\n",
       "      <th>timestamp</th>\n",
       "      <th>air_temperature</th>\n",
       "      <th>cloud_coverage</th>\n",
       "      <th>dew_temperature</th>\n",
       "      <th>precip_depth_1_hr</th>\n",
       "      <th>sea_level_pressure</th>\n",
       "      <th>wind_direction</th>\n",
       "      <th>wind_speed</th>\n",
       "    </tr>\n",
       "  </thead>\n",
       "  <tbody>\n",
       "    <tr>\n",
       "      <th>0</th>\n",
       "      <td>1.0</td>\n",
       "      <td>1.0</td>\n",
       "      <td>0.999607</td>\n",
       "      <td>0.505105</td>\n",
       "      <td>0.999192</td>\n",
       "      <td>0.640209</td>\n",
       "      <td>0.924034</td>\n",
       "      <td>0.955156</td>\n",
       "      <td>0.997825</td>\n",
       "    </tr>\n",
       "  </tbody>\n",
       "</table>\n",
       "</div>"
      ],
      "text/plain": [
       "   site_id  timestamp  air_temperature  cloud_coverage  dew_temperature  \\\n",
       "0      1.0        1.0         0.999607        0.505105         0.999192   \n",
       "\n",
       "   precip_depth_1_hr  sea_level_pressure  wind_direction  wind_speed  \n",
       "0           0.640209            0.924034        0.955156    0.997825  "
      ]
     },
     "execution_count": 124,
     "metadata": {},
     "output_type": "execute_result"
    }
   ],
   "source": [
    "weather_train_available"
   ]
  },
  {
   "cell_type": "code",
   "execution_count": null,
   "metadata": {},
   "outputs": [],
   "source": []
  }
 ],
 "metadata": {
  "kernelspec": {
   "display_name": "Python 3",
   "language": "python",
   "name": "python3"
  },
  "language_info": {
   "codemirror_mode": {
    "name": "ipython",
    "version": 3
   },
   "file_extension": ".py",
   "mimetype": "text/x-python",
   "name": "python",
   "nbconvert_exporter": "python",
   "pygments_lexer": "ipython3",
   "version": "3.8.5"
  }
 },
 "nbformat": 4,
 "nbformat_minor": 4
}
