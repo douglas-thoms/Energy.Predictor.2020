{
 "cells": [
  {
   "cell_type": "markdown",
   "metadata": {},
   "source": [
    "### Columns to drop\n",
    "- building_metadata - drop floor count, year built\n",
    "- weather_train - precipitation depth 1_hr, cloud coverage"
   ]
  },
  {
   "cell_type": "markdown",
   "metadata": {},
   "source": [
    "### Sites to Drop\n",
    "- see files for electricity, steam, gas"
   ]
  },
  {
   "cell_type": "markdown",
   "metadata": {},
   "source": [
    "### SQL Query"
   ]
  },
  {
   "cell_type": "code",
   "execution_count": 15,
   "metadata": {},
   "outputs": [
    {
     "name": "stdout",
     "output_type": "stream",
     "text": [
      "/home/douglas/Documents/github.passwords/energy.predictor.2020.config\n"
     ]
    }
   ],
   "source": [
    "import psycopg2\n",
    "from psycopg2 import Error\n",
    "\n",
    "import pandas as pd\n",
    "import numpy as np\n",
    "\n",
    "import os\n",
    "path = os.path.join(os.path.expanduser('~'), 'Documents', 'github.passwords', 'energy.predictor.2020.config')\n",
    "print (path)\n",
    "\n",
    "myfile = open(path,\"rt\")\n",
    "config= myfile.read()"
   ]
  },
  {
   "cell_type": "code",
   "execution_count": 16,
   "metadata": {},
   "outputs": [],
   "source": [
    "connection = psycopg2.connect(config)\n",
    "\n",
    "cursor = connection.cursor()"
   ]
  },
  {
   "cell_type": "code",
   "execution_count": 17,
   "metadata": {},
   "outputs": [],
   "source": [
    "# Read PostgreSQL into a dataframe\n",
    "sql =''' SELECT \n",
    "            bm.site_id,\n",
    "            bm.building_id,\n",
    "            bm.primary_use,\n",
    "            t.meter,\n",
    "            t.meter_reading,\n",
    "            w.timestamp,\n",
    "            w.air_temperature,\n",
    "            w.dew_temperature,\n",
    "            w.sea_level_pressure,\n",
    "            w.wind_direction,\n",
    "            w.wind_speed\n",
    "         FROM \n",
    "             weather_train AS w\n",
    "         INNER JOIN building_metadata AS bm\n",
    "             ON (bm.site_id = w.site_id)\n",
    "         INNER JOIN train AS t\n",
    "             ON (t.timestamp = w.timestamp) AND (t.building_id = bm.building_id)\n",
    "         WHERE \n",
    "             w.timestamp IS NOT NULL \n",
    "             AND w.air_temperature IS NOT NULL \n",
    "             AND w.dew_temperature IS NOT NULL\n",
    "             AND w.sea_level_pressure IS NOT NULL \n",
    "             AND w.wind_direction IS NOT NULL \n",
    "             AND w.wind_speed IS NOT NULL\n",
    "            ;'''\n",
    "df = pd.read_sql_query(sql,connection)"
   ]
  },
  {
   "cell_type": "markdown",
   "metadata": {},
   "source": [
    "### Drop any observation that has a null"
   ]
  },
  {
   "cell_type": "code",
   "execution_count": 18,
   "metadata": {},
   "outputs": [
    {
     "name": "stdout",
     "output_type": "stream",
     "text": [
      "PostgreSQL connection is closed\n"
     ]
    }
   ],
   "source": [
    "if (connection):\n",
    "        cursor.close()\n",
    "        connection.close()\n",
    "        print(\"PostgreSQL connection is closed\")"
   ]
  },
  {
   "cell_type": "markdown",
   "metadata": {},
   "source": [
    "### Preprocessing Here"
   ]
  },
  {
   "cell_type": "markdown",
   "metadata": {},
   "source": [
    "Wind direction preprocessing"
   ]
  },
  {
   "cell_type": "markdown",
   "metadata": {},
   "source": [
    "Time preprocessing"
   ]
  },
  {
   "cell_type": "code",
   "execution_count": 19,
   "metadata": {},
   "outputs": [
    {
     "data": {
      "text/html": [
       "<div>\n",
       "<style scoped>\n",
       "    .dataframe tbody tr th:only-of-type {\n",
       "        vertical-align: middle;\n",
       "    }\n",
       "\n",
       "    .dataframe tbody tr th {\n",
       "        vertical-align: top;\n",
       "    }\n",
       "\n",
       "    .dataframe thead th {\n",
       "        text-align: right;\n",
       "    }\n",
       "</style>\n",
       "<table border=\"1\" class=\"dataframe\">\n",
       "  <thead>\n",
       "    <tr style=\"text-align: right;\">\n",
       "      <th></th>\n",
       "      <th>site_id</th>\n",
       "      <th>building_id</th>\n",
       "      <th>primary_use</th>\n",
       "      <th>meter</th>\n",
       "      <th>meter_reading</th>\n",
       "      <th>timestamp</th>\n",
       "      <th>air_temperature</th>\n",
       "      <th>dew_temperature</th>\n",
       "      <th>sea_level_pressure</th>\n",
       "      <th>wind_direction</th>\n",
       "      <th>wind_speed</th>\n",
       "    </tr>\n",
       "  </thead>\n",
       "  <tbody>\n",
       "    <tr>\n",
       "      <th>0</th>\n",
       "      <td>0</td>\n",
       "      <td>0</td>\n",
       "      <td>Education</td>\n",
       "      <td>0</td>\n",
       "      <td>0.0000</td>\n",
       "      <td>2016-01-01</td>\n",
       "      <td>25.0</td>\n",
       "      <td>20.0</td>\n",
       "      <td>1019.7</td>\n",
       "      <td>0.0</td>\n",
       "      <td>0.0</td>\n",
       "    </tr>\n",
       "    <tr>\n",
       "      <th>1</th>\n",
       "      <td>0</td>\n",
       "      <td>1</td>\n",
       "      <td>Education</td>\n",
       "      <td>0</td>\n",
       "      <td>0.0000</td>\n",
       "      <td>2016-01-01</td>\n",
       "      <td>25.0</td>\n",
       "      <td>20.0</td>\n",
       "      <td>1019.7</td>\n",
       "      <td>0.0</td>\n",
       "      <td>0.0</td>\n",
       "    </tr>\n",
       "    <tr>\n",
       "      <th>2</th>\n",
       "      <td>0</td>\n",
       "      <td>2</td>\n",
       "      <td>Education</td>\n",
       "      <td>0</td>\n",
       "      <td>0.0000</td>\n",
       "      <td>2016-01-01</td>\n",
       "      <td>25.0</td>\n",
       "      <td>20.0</td>\n",
       "      <td>1019.7</td>\n",
       "      <td>0.0</td>\n",
       "      <td>0.0</td>\n",
       "    </tr>\n",
       "    <tr>\n",
       "      <th>3</th>\n",
       "      <td>0</td>\n",
       "      <td>3</td>\n",
       "      <td>Education</td>\n",
       "      <td>0</td>\n",
       "      <td>0.0000</td>\n",
       "      <td>2016-01-01</td>\n",
       "      <td>25.0</td>\n",
       "      <td>20.0</td>\n",
       "      <td>1019.7</td>\n",
       "      <td>0.0</td>\n",
       "      <td>0.0</td>\n",
       "    </tr>\n",
       "    <tr>\n",
       "      <th>4</th>\n",
       "      <td>1</td>\n",
       "      <td>147</td>\n",
       "      <td>Office</td>\n",
       "      <td>0</td>\n",
       "      <td>72.0612</td>\n",
       "      <td>2016-01-01</td>\n",
       "      <td>3.8</td>\n",
       "      <td>2.4</td>\n",
       "      <td>1020.9</td>\n",
       "      <td>240.0</td>\n",
       "      <td>3.1</td>\n",
       "    </tr>\n",
       "    <tr>\n",
       "      <th>...</th>\n",
       "      <td>...</td>\n",
       "      <td>...</td>\n",
       "      <td>...</td>\n",
       "      <td>...</td>\n",
       "      <td>...</td>\n",
       "      <td>...</td>\n",
       "      <td>...</td>\n",
       "      <td>...</td>\n",
       "      <td>...</td>\n",
       "      <td>...</td>\n",
       "      <td>...</td>\n",
       "    </tr>\n",
       "    <tr>\n",
       "      <th>17684649</th>\n",
       "      <td>1</td>\n",
       "      <td>144</td>\n",
       "      <td>Office</td>\n",
       "      <td>0</td>\n",
       "      <td>28.0638</td>\n",
       "      <td>2016-01-01</td>\n",
       "      <td>3.8</td>\n",
       "      <td>2.4</td>\n",
       "      <td>1020.9</td>\n",
       "      <td>240.0</td>\n",
       "      <td>3.1</td>\n",
       "    </tr>\n",
       "    <tr>\n",
       "      <th>17684650</th>\n",
       "      <td>1</td>\n",
       "      <td>144</td>\n",
       "      <td>Office</td>\n",
       "      <td>3</td>\n",
       "      <td>9.7989</td>\n",
       "      <td>2016-01-01</td>\n",
       "      <td>3.8</td>\n",
       "      <td>2.4</td>\n",
       "      <td>1020.9</td>\n",
       "      <td>240.0</td>\n",
       "      <td>3.1</td>\n",
       "    </tr>\n",
       "    <tr>\n",
       "      <th>17684651</th>\n",
       "      <td>1</td>\n",
       "      <td>145</td>\n",
       "      <td>Office</td>\n",
       "      <td>0</td>\n",
       "      <td>9.4350</td>\n",
       "      <td>2016-01-01</td>\n",
       "      <td>3.8</td>\n",
       "      <td>2.4</td>\n",
       "      <td>1020.9</td>\n",
       "      <td>240.0</td>\n",
       "      <td>3.1</td>\n",
       "    </tr>\n",
       "    <tr>\n",
       "      <th>17684652</th>\n",
       "      <td>1</td>\n",
       "      <td>145</td>\n",
       "      <td>Office</td>\n",
       "      <td>3</td>\n",
       "      <td>100.0000</td>\n",
       "      <td>2016-01-01</td>\n",
       "      <td>3.8</td>\n",
       "      <td>2.4</td>\n",
       "      <td>1020.9</td>\n",
       "      <td>240.0</td>\n",
       "      <td>3.1</td>\n",
       "    </tr>\n",
       "    <tr>\n",
       "      <th>17684653</th>\n",
       "      <td>1</td>\n",
       "      <td>146</td>\n",
       "      <td>Office</td>\n",
       "      <td>0</td>\n",
       "      <td>6.2000</td>\n",
       "      <td>2016-01-01</td>\n",
       "      <td>3.8</td>\n",
       "      <td>2.4</td>\n",
       "      <td>1020.9</td>\n",
       "      <td>240.0</td>\n",
       "      <td>3.1</td>\n",
       "    </tr>\n",
       "  </tbody>\n",
       "</table>\n",
       "<p>17684654 rows × 11 columns</p>\n",
       "</div>"
      ],
      "text/plain": [
       "          site_id  building_id primary_use  meter  meter_reading  timestamp  \\\n",
       "0               0            0   Education      0         0.0000 2016-01-01   \n",
       "1               0            1   Education      0         0.0000 2016-01-01   \n",
       "2               0            2   Education      0         0.0000 2016-01-01   \n",
       "3               0            3   Education      0         0.0000 2016-01-01   \n",
       "4               1          147      Office      0        72.0612 2016-01-01   \n",
       "...           ...          ...         ...    ...            ...        ...   \n",
       "17684649        1          144      Office      0        28.0638 2016-01-01   \n",
       "17684650        1          144      Office      3         9.7989 2016-01-01   \n",
       "17684651        1          145      Office      0         9.4350 2016-01-01   \n",
       "17684652        1          145      Office      3       100.0000 2016-01-01   \n",
       "17684653        1          146      Office      0         6.2000 2016-01-01   \n",
       "\n",
       "          air_temperature  dew_temperature  sea_level_pressure  \\\n",
       "0                    25.0             20.0              1019.7   \n",
       "1                    25.0             20.0              1019.7   \n",
       "2                    25.0             20.0              1019.7   \n",
       "3                    25.0             20.0              1019.7   \n",
       "4                     3.8              2.4              1020.9   \n",
       "...                   ...              ...                 ...   \n",
       "17684649              3.8              2.4              1020.9   \n",
       "17684650              3.8              2.4              1020.9   \n",
       "17684651              3.8              2.4              1020.9   \n",
       "17684652              3.8              2.4              1020.9   \n",
       "17684653              3.8              2.4              1020.9   \n",
       "\n",
       "          wind_direction  wind_speed  \n",
       "0                    0.0         0.0  \n",
       "1                    0.0         0.0  \n",
       "2                    0.0         0.0  \n",
       "3                    0.0         0.0  \n",
       "4                  240.0         3.1  \n",
       "...                  ...         ...  \n",
       "17684649           240.0         3.1  \n",
       "17684650           240.0         3.1  \n",
       "17684651           240.0         3.1  \n",
       "17684652           240.0         3.1  \n",
       "17684653           240.0         3.1  \n",
       "\n",
       "[17684654 rows x 11 columns]"
      ]
     },
     "execution_count": 19,
     "metadata": {},
     "output_type": "execute_result"
    }
   ],
   "source": [
    "df"
   ]
  },
  {
   "cell_type": "code",
   "execution_count": null,
   "metadata": {},
   "outputs": [],
   "source": []
  },
  {
   "cell_type": "code",
   "execution_count": null,
   "metadata": {},
   "outputs": [],
   "source": []
  }
 ],
 "metadata": {
  "kernelspec": {
   "display_name": "Python 3",
   "language": "python",
   "name": "python3"
  },
  "language_info": {
   "codemirror_mode": {
    "name": "ipython",
    "version": 3
   },
   "file_extension": ".py",
   "mimetype": "text/x-python",
   "name": "python",
   "nbconvert_exporter": "python",
   "pygments_lexer": "ipython3",
   "version": "3.8.5"
  }
 },
 "nbformat": 4,
 "nbformat_minor": 4
}
