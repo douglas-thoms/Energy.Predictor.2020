{
 "cells": [
  {
   "cell_type": "markdown",
   "metadata": {},
   "source": [
    "### Columns to drop\n",
    "- building_metadata - drop floor count, year built\n",
    "- weather_train - precipitation depth 1_hr, cloud coverage"
   ]
  },
  {
   "cell_type": "markdown",
   "metadata": {},
   "source": [
    "### Sites to Drop\n",
    "- see files for electricity, steam, gas"
   ]
  },
  {
   "cell_type": "markdown",
   "metadata": {},
   "source": [
    "### SQL Query"
   ]
  },
  {
   "cell_type": "code",
   "execution_count": 51,
   "metadata": {},
   "outputs": [],
   "source": [
    "import psycopg2\n",
    "from psycopg2 import Error\n",
    "\n",
    "import pandas as pd\n",
    "import numpy as np\n",
    "\n",
    "myfile = open(\"./../../../github.passwords/energy.predictor.2020.config\",\"rt\")\n",
    "config= myfile.read()"
   ]
  },
  {
   "cell_type": "code",
   "execution_count": 52,
   "metadata": {},
   "outputs": [],
   "source": [
    "connection = psycopg2.connect(config)\n",
    "\n",
    "cursor = connection.cursor()"
   ]
  },
  {
   "cell_type": "code",
   "execution_count": null,
   "metadata": {},
   "outputs": [],
   "source": [
    "# Read PostgreSQL into a dataframe\n",
    "sql =''' SELECT \n",
    "            bm.site_id,\n",
    "            bm.building_id,\n",
    "            bm.primary_use,\n",
    "            w.timestamp,\n",
    "            w.air_temperature,\n",
    "            w.dew_temperature,\n",
    "            w.sea_level_pressure,\n",
    "            w.wind_direction,\n",
    "            w.wind_speed\n",
    "         FROM \n",
    "             weather_train AS w\n",
    "         INNER JOIN building_metadata AS bm\n",
    "             ON (bm.site_id = w.site_id)\n",
    "         WHERE \n",
    "             w.timestamp IS NOT NULL \n",
    "             AND w.air_temperature IS NOT NULL \n",
    "             AND w.dew_temperature IS NOT NULL\n",
    "             AND w.sea_level_pressure IS NOT NULL \n",
    "             AND w.wind_direction IS NOT NULL \n",
    "             AND w.wind_speed IS NOT NULL\n",
    "            ;'''\n",
    "df = pd.read_sql_query(sql,connection)"
   ]
  },
  {
   "cell_type": "markdown",
   "metadata": {},
   "source": [
    "### Drop any observation that has a null"
   ]
  },
  {
   "cell_type": "code",
   "execution_count": null,
   "metadata": {},
   "outputs": [],
   "source": [
    "if (connection):\n",
    "        cursor.close()\n",
    "        connection.close()\n",
    "        print(\"PostgreSQL connection is closed\")"
   ]
  },
  {
   "cell_type": "markdown",
   "metadata": {},
   "source": [
    "### Preprocessing Here"
   ]
  },
  {
   "cell_type": "markdown",
   "metadata": {},
   "source": [
    "Wind direction preprocessing"
   ]
  },
  {
   "cell_type": "markdown",
   "metadata": {},
   "source": [
    "Time preprocessing"
   ]
  },
  {
   "cell_type": "code",
   "execution_count": null,
   "metadata": {},
   "outputs": [],
   "source": [
    "df"
   ]
  },
  {
   "cell_type": "code",
   "execution_count": null,
   "metadata": {},
   "outputs": [],
   "source": []
  },
  {
   "cell_type": "code",
   "execution_count": null,
   "metadata": {},
   "outputs": [],
   "source": []
  }
 ],
 "metadata": {
  "kernelspec": {
   "display_name": "Python 3",
   "language": "python",
   "name": "python3"
  },
  "language_info": {
   "codemirror_mode": {
    "name": "ipython",
    "version": 3
   },
   "file_extension": ".py",
   "mimetype": "text/x-python",
   "name": "python",
   "nbconvert_exporter": "python",
   "pygments_lexer": "ipython3",
   "version": "3.8.5"
  }
 },
 "nbformat": 4,
 "nbformat_minor": 4
}
