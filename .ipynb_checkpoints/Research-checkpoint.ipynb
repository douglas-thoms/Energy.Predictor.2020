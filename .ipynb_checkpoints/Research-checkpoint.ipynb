{
 "cells": [
  {
   "cell_type": "markdown",
   "id": "super-swedish",
   "metadata": {},
   "source": [
    "Weather"
   ]
  },
  {
   "cell_type": "markdown",
   "id": "respiratory-plaintiff",
   "metadata": {},
   "source": [
    "Data Minification"
   ]
  },
  {
   "cell_type": "markdown",
   "id": "retired-influence",
   "metadata": {},
   "source": [
    "https://www.kaggle.com/c/ashrae-energy-prediction/discussion/112872\n",
    "    "
   ]
  },
  {
   "cell_type": "markdown",
   "id": "different-addition",
   "metadata": {},
   "source": [
    "use A/B testing"
   ]
  },
  {
   "cell_type": "markdown",
   "id": "alike-better",
   "metadata": {},
   "source": [
    "I used this info and the sites' temperature data to make educated guesses as to which site is which, see here https://www.kaggle.com/datadugong/locate-better-cities-by-weather-temp-fill-nans\n"
   ]
  },
  {
   "cell_type": "code",
   "execution_count": null,
   "id": "plain-mozambique",
   "metadata": {},
   "outputs": [],
   "source": []
  }
 ],
 "metadata": {
  "kernelspec": {
   "display_name": "Python 3",
   "language": "python",
   "name": "python3"
  },
  "language_info": {
   "codemirror_mode": {
    "name": "ipython",
    "version": 3
   },
   "file_extension": ".py",
   "mimetype": "text/x-python",
   "name": "python",
   "nbconvert_exporter": "python",
   "pygments_lexer": "ipython3",
   "version": "3.8.5"
  }
 },
 "nbformat": 4,
 "nbformat_minor": 5
}
